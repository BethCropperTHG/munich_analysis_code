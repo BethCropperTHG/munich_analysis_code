{
 "cells": [
  {
   "cell_type": "code",
   "execution_count": 1,
   "metadata": {},
   "outputs": [
    {
     "name": "stdout",
     "output_type": "stream",
     "text": [
      "\u001b[0m\u001b[38;5;27m116Cd_d,p_bite_1\u001b[0m/                           Distribution Troubleshooting.ipynb\r\n",
      "\u001b[38;5;27m116Cd_d,p_bite_1_new\u001b[0m/                       energy_xsection_writer.py\r\n",
      "\u001b[38;5;27m116Cd_d,p_bite_1_patrickbic\u001b[0m/                \u001b[38;5;27mfeb_may_normalisation\u001b[0m/\r\n",
      "\u001b[38;5;27m116Cd_d,t_bite_1\u001b[0m/                           \u001b[38;5;27minput\u001b[0m/\r\n",
      "116Cd_p,d_115Cd_39degrees_bite_1_peaks.txt  notebook.tex\r\n",
      "\u001b[38;5;27m116Cd_p,d_bite_1\u001b[0m/                           \u001b[38;5;27moutput\u001b[0m/\r\n",
      "\u001b[38;5;27m116Cd_p,d_bite_1_different_bic\u001b[0m/             \u001b[38;5;13moutput_13_0.png\u001b[0m\r\n",
      "\u001b[38;5;27m116Cd_p,d_bite_2\u001b[0m/                           \u001b[38;5;13moutput_18_0.png\u001b[0m\r\n",
      "\u001b[38;5;27m116Cd_p,d_bite_3\u001b[0m/                           \u001b[38;5;27m__pycache__\u001b[0m/\r\n",
      "angle_dependent_normalisation.ipynb         \u001b[38;5;27mrun_properties\u001b[0m/\r\n",
      "bic_correction.ods                          spectroscopic_checker.ipynb\r\n",
      "Cross-section-checker.ipynb                 spectrum_classes.py\r\n"
     ]
    }
   ],
   "source": [
    "ls"
   ]
  },
  {
   "cell_type": "code",
   "execution_count": null,
   "metadata": {},
   "outputs": [],
   "source": [
    "\n"
   ]
  },
  {
   "cell_type": "code",
   "execution_count": 2,
   "metadata": {},
   "outputs": [],
   "source": [
    "import glob"
   ]
  },
  {
   "cell_type": "code",
   "execution_count": 3,
   "metadata": {},
   "outputs": [
    {
     "data": {
      "text/plain": [
       "['/home/ben/Documents/analysis_code/spectrum_analysis/116Cd_d,p_bite_1/output/116Cd_d,p_117Cd_31degrees_bite_1_peaks.txt',\n",
       " '/home/ben/Documents/analysis_code/spectrum_analysis/116Cd_d,p_bite_1/output/116Cd_d,p_117Cd_18degrees_bite_1_peaks.txt',\n",
       " '/home/ben/Documents/analysis_code/spectrum_analysis/116Cd_d,p_bite_1/output/116Cd_d,p_117Cd_40degrees_bite_1_peaks.txt',\n",
       " '/home/ben/Documents/analysis_code/spectrum_analysis/116Cd_d,p_bite_1/output/116Cd_d,p_117Cd_25degrees_bite_1_peaks.txt',\n",
       " '/home/ben/Documents/analysis_code/spectrum_analysis/116Cd_d,p_bite_1/output/116Cd_d,p_117Cd_10degrees_bite_1_peaks.txt']"
      ]
     },
     "execution_count": 3,
     "metadata": {},
     "output_type": "execute_result"
    }
   ],
   "source": [
    "old_dp_files = glob.glob('/home/ben/Documents/analysis_code/spectrum_analysis/116Cd_d,p_bite_1/output/*')\n",
    "old_dp_files"
   ]
  },
  {
   "cell_type": "code",
   "execution_count": 4,
   "metadata": {},
   "outputs": [
    {
     "data": {
      "text/html": [
       "<div>\n",
       "<style scoped>\n",
       "    .dataframe tbody tr th:only-of-type {\n",
       "        vertical-align: middle;\n",
       "    }\n",
       "\n",
       "    .dataframe tbody tr th {\n",
       "        vertical-align: top;\n",
       "    }\n",
       "\n",
       "    .dataframe thead th {\n",
       "        text-align: right;\n",
       "    }\n",
       "</style>\n",
       "<table border=\"1\" class=\"dataframe\">\n",
       "  <thead>\n",
       "    <tr style=\"text-align: right;\">\n",
       "      <th></th>\n",
       "      <th>PEAK_POSITION</th>\n",
       "      <th>PEAK_ENERGY</th>\n",
       "      <th>CROSS_SECTION</th>\n",
       "      <th>ERROR</th>\n",
       "    </tr>\n",
       "  </thead>\n",
       "  <tbody>\n",
       "    <tr>\n",
       "      <th>0</th>\n",
       "      <td>1861.67</td>\n",
       "      <td>0.0</td>\n",
       "      <td>1.245044</td>\n",
       "      <td>0.010059</td>\n",
       "    </tr>\n",
       "    <tr>\n",
       "      <th>1</th>\n",
       "      <td>1171.89</td>\n",
       "      <td>498.0</td>\n",
       "      <td>0.137980</td>\n",
       "      <td>0.003455</td>\n",
       "    </tr>\n",
       "    <tr>\n",
       "      <th>2</th>\n",
       "      <td>1140.62</td>\n",
       "      <td>522.0</td>\n",
       "      <td>0.104349</td>\n",
       "      <td>0.003071</td>\n",
       "    </tr>\n",
       "    <tr>\n",
       "      <th>3</th>\n",
       "      <td>961.70</td>\n",
       "      <td>665.0</td>\n",
       "      <td>0.265671</td>\n",
       "      <td>0.004914</td>\n",
       "    </tr>\n",
       "    <tr>\n",
       "      <th>4</th>\n",
       "      <td>822.20</td>\n",
       "      <td>779.0</td>\n",
       "      <td>0.068491</td>\n",
       "      <td>0.002457</td>\n",
       "    </tr>\n",
       "  </tbody>\n",
       "</table>\n",
       "</div>"
      ],
      "text/plain": [
       "   PEAK_POSITION  PEAK_ENERGY  CROSS_SECTION     ERROR\n",
       "0        1861.67          0.0       1.245044  0.010059\n",
       "1        1171.89        498.0       0.137980  0.003455\n",
       "2        1140.62        522.0       0.104349  0.003071\n",
       "3         961.70        665.0       0.265671  0.004914\n",
       "4         822.20        779.0       0.068491  0.002457"
      ]
     },
     "execution_count": 4,
     "metadata": {},
     "output_type": "execute_result"
    }
   ],
   "source": [
    "import pandas as pd\n",
    "tables_old = []\n",
    "for file in old_dp_files:\n",
    "    df = pd.read_table(file, sep = ' ')\n",
    "    idx = [0,9,10,14,18]\n",
    "    df = df.loc[idx,:]\n",
    "    df = df.reset_index()\n",
    "    df = df.loc[:,'PEAK_POSITION':]\n",
    "    tables_old.append([file, df])\n",
    "    \n",
    "tables_old[0][1]"
   ]
  },
  {
   "cell_type": "code",
   "execution_count": 5,
   "metadata": {},
   "outputs": [
    {
     "name": "stdout",
     "output_type": "stream",
     "text": [
      "/home/ben/Documents/analysis_code/spectrum_analysis/116Cd_d,p_bite_1_new/output\n"
     ]
    }
   ],
   "source": [
    "cd /home/ben/Documents/analysis_code/spectrum_analysis/116Cd_d,p_bite_1_new/output\n"
   ]
  },
  {
   "cell_type": "code",
   "execution_count": 6,
   "metadata": {},
   "outputs": [
    {
     "name": "stdout",
     "output_type": "stream",
     "text": [
      "116Cd_d,p_117Cd_12degrees_bite_1_peaks.txt\r\n",
      "116Cd_d,p_117Cd_18degrees_bite_1_peaks.txt\r\n",
      "116Cd_d,p_117Cd_25degrees_bite_1_peaks.txt\r\n",
      "116Cd_d,p_117Cd_31degrees_bite_1_peaks.txt\r\n",
      "116Cd_d,p_117Cd_35degrees_bite_1_peaks.txt\r\n",
      "116Cd_d,p_117Cd_40degrees_bite_1_peaks.txt\r\n"
     ]
    }
   ],
   "source": [
    "ls"
   ]
  },
  {
   "cell_type": "code",
   "execution_count": 7,
   "metadata": {},
   "outputs": [
    {
     "data": {
      "text/plain": [
       "['116Cd_d,p_117Cd_35degrees_bite_1_peaks.txt',\n",
       " '116Cd_d,p_117Cd_12degrees_bite_1_peaks.txt',\n",
       " '116Cd_d,p_117Cd_40degrees_bite_1_peaks.txt',\n",
       " '116Cd_d,p_117Cd_31degrees_bite_1_peaks.txt',\n",
       " '116Cd_d,p_117Cd_25degrees_bite_1_peaks.txt',\n",
       " '116Cd_d,p_117Cd_18degrees_bite_1_peaks.txt']"
      ]
     },
     "execution_count": 7,
     "metadata": {},
     "output_type": "execute_result"
    }
   ],
   "source": [
    "new_dp_files = glob.glob('*')\n",
    "new_dp_files"
   ]
  },
  {
   "cell_type": "code",
   "execution_count": 8,
   "metadata": {},
   "outputs": [],
   "source": [
    "tables_new = []\n",
    "for file in new_dp_files:\n",
    "    tables_new.append([file, pd.read_table(file, sep = ' ')])"
   ]
  },
  {
   "cell_type": "code",
   "execution_count": 9,
   "metadata": {},
   "outputs": [
    {
     "data": {
      "text/plain": [
       "[['/home/ben/Documents/analysis_code/spectrum_analysis/116Cd_d,p_bite_1/output/116Cd_d,p_117Cd_31degrees_bite_1_peaks.txt',\n",
       "     PEAK_POSITION  PEAK_ENERGY  CROSS_SECTION     ERROR\n",
       "  0        1861.67          0.0       1.245044  0.010059\n",
       "  1        1171.89        498.0       0.137980  0.003455\n",
       "  2        1140.62        522.0       0.104349  0.003071\n",
       "  3         961.70        665.0       0.265671  0.004914\n",
       "  4         822.20        779.0       0.068491  0.002457],\n",
       " ['/home/ben/Documents/analysis_code/spectrum_analysis/116Cd_d,p_bite_1/output/116Cd_d,p_117Cd_18degrees_bite_1_peaks.txt',\n",
       "     PEAK_POSITION  PEAK_ENERGY  CROSS_SECTION     ERROR\n",
       "  0        1861.04          0.0       0.293141  0.007158\n",
       "  1        1172.10        498.0       0.075075  0.003995\n",
       "  2        1140.69        522.0       0.257518  0.006991\n",
       "  3         961.10        665.0       0.631060  0.010987\n",
       "  4         821.50        779.0       0.054433  0.003329],\n",
       " ['/home/ben/Documents/analysis_code/spectrum_analysis/116Cd_d,p_bite_1/output/116Cd_d,p_117Cd_40degrees_bite_1_peaks.txt',\n",
       "     PEAK_POSITION  PEAK_ENERGY  CROSS_SECTION     ERROR\n",
       "  0        1867.86          0.0       1.034479  0.011230\n",
       "  1        1176.09        498.0       0.219343  0.005381\n",
       "  2        1145.01        522.0       0.106571  0.003977\n",
       "  3         965.40        665.0       0.322288  0.006668\n",
       "  4         825.90        779.0       0.069488  0.003042],\n",
       " ['/home/ben/Documents/analysis_code/spectrum_analysis/116Cd_d,p_bite_1/output/116Cd_d,p_117Cd_25degrees_bite_1_peaks.txt',\n",
       "     PEAK_POSITION  PEAK_ENERGY  CROSS_SECTION     ERROR\n",
       "  0        1865.57          0.0       0.638905  0.014622\n",
       "  1        1175.60        498.0       0.068976  0.005086\n",
       "  2        1144.90        522.0       0.130006  0.006993\n",
       "  3         965.90        665.0       0.319452  0.010807\n",
       "  4         826.20        779.0       0.048951  0.004132],\n",
       " ['/home/ben/Documents/analysis_code/spectrum_analysis/116Cd_d,p_bite_1/output/116Cd_d,p_117Cd_10degrees_bite_1_peaks.txt',\n",
       "     PEAK_POSITION  PEAK_ENERGY  CROSS_SECTION     ERROR\n",
       "  0        1862.14          0.0       3.781389  0.057589\n",
       "  1        1174.20        498.0       0.114366  0.010544\n",
       "  2        1144.00        522.0       0.194666  0.013789\n",
       "  3         964.60        665.0       0.596165  0.023522\n",
       "  4         825.00        779.0       0.102200  0.009733]]"
      ]
     },
     "execution_count": 9,
     "metadata": {},
     "output_type": "execute_result"
    }
   ],
   "source": [
    "tables_old"
   ]
  },
  {
   "cell_type": "code",
   "execution_count": 10,
   "metadata": {
    "scrolled": true
   },
   "outputs": [
    {
     "data": {
      "text/plain": [
       "[['116Cd_d,p_117Cd_35degrees_bite_1_peaks.txt',\n",
       "     PEAK_POSITION  PEAK_ENERGY  CROSS_SECTION     ERROR\n",
       "  0        1829.66          0.0       3.872999  0.050084\n",
       "  1        1143.00        498.0       0.546215  0.024158\n",
       "  2        1112.00        522.0       0.271634  0.016498\n",
       "  3         933.00        665.0       0.735946  0.040657\n",
       "  4         793.00        779.0       0.205641  0.035354],\n",
       " ['116Cd_d,p_117Cd_12degrees_bite_1_peaks.txt',\n",
       "     PEAK_POSITION  PEAK_ENERGY  CROSS_SECTION     ERROR\n",
       "  0        1817.58          0.0       4.504709  0.064424\n",
       "  1        1135.60        498.0       0.193271  0.014867\n",
       "  2        1105.30        522.0       0.470789  0.023126\n",
       "  3         925.00        665.0       1.372722  0.048731\n",
       "  4         791.00        779.0       0.166841  0.037168],\n",
       " ['116Cd_d,p_117Cd_40degrees_bite_1_peaks.txt',\n",
       "     PEAK_POSITION  PEAK_ENERGY  CROSS_SECTION     ERROR\n",
       "  0        1815.92          0.0       1.981979  0.023677\n",
       "  1        1131.00        498.0       0.404033  0.015785\n",
       "  2        1101.00        522.0       0.193997  0.010438\n",
       "  3         916.30        665.0       0.590902  0.018076\n",
       "  4         780.00        779.0       0.135951  0.009929],\n",
       " ['116Cd_d,p_117Cd_31degrees_bite_1_peaks.txt',\n",
       "     PEAK_POSITION  PEAK_ENERGY  CROSS_SECTION     ERROR\n",
       "  0        1812.00          0.0       3.735805  0.031567\n",
       "  1        1129.00        498.0       0.410132  0.064558\n",
       "  2        1097.00        522.0       0.314719  0.049842\n",
       "  3         913.48        665.0       0.799139  0.020174\n",
       "  4         778.00        779.0       0.199607  0.008544],\n",
       " ['116Cd_d,p_117Cd_25degrees_bite_1_peaks.txt',\n",
       "     PEAK_POSITION  PEAK_ENERGY  CROSS_SECTION     ERROR\n",
       "  0        1831.64          0.0       2.972720  0.039985\n",
       "  1        1142.20        498.0       0.281377  0.015303\n",
       "  2        1111.16        522.0       0.553374  0.018265\n",
       "  3         936.00        665.0       1.425642  0.061212\n",
       "  4         796.00        779.0       0.225595  0.029619],\n",
       " ['116Cd_d,p_117Cd_18degrees_bite_1_peaks.txt',\n",
       "     PEAK_POSITION  PEAK_ENERGY  CROSS_SECTION     ERROR\n",
       "  0         1815.0          0.0       0.902691  0.026703\n",
       "  1         1134.1        498.0       0.198534  0.012771\n",
       "  2         1104.0        522.0       0.700674  0.026123\n",
       "  3          917.2        665.0       1.754297  0.060373\n",
       "  4          783.0        779.0       0.184021  0.019157]]"
      ]
     },
     "execution_count": 10,
     "metadata": {},
     "output_type": "execute_result"
    }
   ],
   "source": [
    "tables_new"
   ]
  },
  {
   "cell_type": "code",
   "execution_count": 11,
   "metadata": {},
   "outputs": [
    {
     "name": "stdout",
     "output_type": "stream",
     "text": [
      "/home/ben/Documents/analysis_code/spectrum_analysis/feb_may_normalisation\n"
     ]
    }
   ],
   "source": [
    "cd /home/ben/Documents/analysis_code/spectrum_analysis/feb_may_normalisation"
   ]
  },
  {
   "cell_type": "code",
   "execution_count": 84,
   "metadata": {},
   "outputs": [
    {
     "name": "stdout",
     "output_type": "stream",
     "text": [
      "   CROSS_SECTION    ERRORS\n",
      "0       3.079378  0.118119\n",
      "1       2.644487  0.220777\n",
      "2       2.720877  0.125487\n",
      "3       2.779922  0.107214\n",
      "4       3.380675  0.408178\n",
      "   PEAK_POSITION  PEAK_ENERGY  CROSS_SECTION     ERROR\n",
      "0         1815.0          0.0       0.902691  0.026703\n",
      "1         1134.1        498.0       0.198534  0.012771\n",
      "2         1104.0        522.0       0.700674  0.026123\n",
      "3          917.2        665.0       1.754297  0.060373\n",
      "4          783.0        779.0       0.184021  0.019157\n",
      "   PEAK_POSITION  PEAK_ENERGY  CROSS_SECTION     ERROR\n",
      "0        1861.04          0.0       0.293141  0.007158\n",
      "1        1172.10        498.0       0.075075  0.003995\n",
      "2        1140.69        522.0       0.257518  0.006991\n",
      "3         961.10        665.0       0.631060  0.010987\n",
      "4         821.50        779.0       0.054433  0.003329\n"
     ]
    }
   ],
   "source": [
    "ratio_list = []\n",
    "import math\n",
    "\n",
    "for new_table in tables_new:\n",
    "    for old_table in tables_old:\n",
    "        #print(new_table[0][16:18])\n",
    "        #print(old_table[0][92:94])\n",
    "        if new_table[0][16:18] == old_table[0][92:94]:\n",
    "            cross_section_list = new_table[1][['CROSS_SECTION']]/old_table[1][['CROSS_SECTION']]\n",
    "            #print(new_table[1]['ERROR'] +  new_table[1]['CROSS_SECTION'])\n",
    "            cross_section_list['ERRORS'] = cross_section_list['CROSS_SECTION'] * ((new_table[1]['ERROR']/new_table[1]['CROSS_SECTION'])**2 + (old_table[1]['ERROR']/old_table[1]['CROSS_SECTION'])**2)**0.5\n",
    "            if new_table[0][16:18] == '18':\n",
    "                print(cross_section_list)\n",
    "                print(new_table[1])\n",
    "                print(old_table[1])\n",
    "            \n",
    "            cross_section_list.columns = [['CROSS_SECTION_RATIO', 'ERRORS']]\n",
    "            #print('Angle = ',new_table[0][16:18])\n",
    "            #print(cross_section_list)\n",
    "            ratio_list.append([new_table[0][16:18], cross_section_list])"
   ]
  },
  {
   "cell_type": "code",
   "execution_count": 30,
   "metadata": {},
   "outputs": [
    {
     "data": {
      "text/plain": [
       "[['40',   CROSS_SECTION_RATIO    ERRORS\n",
       "  0            1.915920  0.030927\n",
       "  1            1.842019  0.084976\n",
       "  2            1.820350  0.119201\n",
       "  3            1.833462  0.067710\n",
       "  4            1.956470  0.166585], ['31',   CROSS_SECTION_RATIO    ERRORS\n",
       "  0            3.000539  0.035078\n",
       "  1            2.972400  0.473762\n",
       "  2            3.016030  0.485831\n",
       "  3            3.008005  0.094139\n",
       "  4            2.914357  0.162770], ['25',   CROSS_SECTION_RATIO    ERRORS\n",
       "  0            4.652838  0.123513\n",
       "  1            4.079326  0.373751\n",
       "  2            4.256529  0.268625\n",
       "  3            4.462769  0.243949\n",
       "  4            4.608597  0.719345], ['18',   CROSS_SECTION_RATIO    ERRORS\n",
       "  0            3.079378  0.118119\n",
       "  1            2.644487  0.220777\n",
       "  2            2.720877  0.125487\n",
       "  3            2.779922  0.107214\n",
       "  4            3.380675  0.408178]]"
      ]
     },
     "execution_count": 30,
     "metadata": {},
     "output_type": "execute_result"
    }
   ],
   "source": [
    "ratio_list"
   ]
  },
  {
   "cell_type": "code",
   "execution_count": 42,
   "metadata": {},
   "outputs": [
    {
     "data": {
      "text/plain": [
       "\"\\nwriter = pd.ExcelWriter('ratios.xlsx')\\nratio_list[0][1].to_excel(writer,ratio_list[0][0])\\nratio_list[1][1].to_excel(writer,ratio_list[1][0])\\nratio_list[2][1].to_excel(writer,ratio_list[2][0])\\nratio_list[3][1].to_excel(writer,ratio_list[3][0])\\nwriter.close()\\n\""
      ]
     },
     "execution_count": 42,
     "metadata": {},
     "output_type": "execute_result"
    }
   ],
   "source": [
    "'''\n",
    "writer = pd.ExcelWriter('ratios.xlsx')\n",
    "ratio_list[0][1].to_excel(writer,ratio_list[0][0])\n",
    "ratio_list[1][1].to_excel(writer,ratio_list[1][0])\n",
    "ratio_list[2][1].to_excel(writer,ratio_list[2][0])\n",
    "ratio_list[3][1].to_excel(writer,ratio_list[3][0])\n",
    "writer.close()\n",
    "'''"
   ]
  },
  {
   "cell_type": "code",
   "execution_count": null,
   "metadata": {},
   "outputs": [],
   "source": [
    "pwd"
   ]
  },
  {
   "cell_type": "code",
   "execution_count": 56,
   "metadata": {},
   "outputs": [
    {
     "name": "stdout",
     "output_type": "stream",
     "text": [
      "['40', '31', '25', '18']\n",
      "[1.8807688043760205, 2.9852539423113345, 4.42209255528904, 3.028218760491004]\n",
      "[0.06030603511305263, 0.03360626608291676, 0.21945273161233805, 0.32263477436198984]\n"
     ]
    }
   ],
   "source": [
    "angles_list = []\n",
    "norms = []\n",
    "norms_error = []\n",
    "\n",
    "import numpy as np\n",
    "for i, angle in enumerate(ratio_list):\n",
    "    #print(angle)\n",
    "    #print(ratio_list[i][1]['CROSS_SECTION_RATIO'])\n",
    "    avg = np.average(ratio_list[i][1]['CROSS_SECTION_RATIO'], weights = ratio_list[i][1]['ERRORS'])\n",
    "    #print(avg)\n",
    "    variance = np.average((ratio_list[i][1]['CROSS_SECTION_RATIO']-avg)**2, weights=ratio_list[i][1]['ERRORS'])\n",
    "    std = np.sqrt(variance)\n",
    "    \n",
    "    angles_list.append(ratio_list[i][0])\n",
    "    norms.append(avg)\n",
    "    norms_error.append(std)\n",
    "    \n",
    "print(angles_list)\n",
    "print(norms)\n",
    "print(norms_error)"
   ]
  },
  {
   "cell_type": "code",
   "execution_count": 57,
   "metadata": {},
   "outputs": [
    {
     "data": {
      "text/plain": [
       "['/home/ben/Documents/analysis_code/spectrum_analysis/116Cd_d,p_bite_1/output/116Cd_d,p_117Cd_31degrees_bite_1_peaks.txt',\n",
       " '/home/ben/Documents/analysis_code/spectrum_analysis/116Cd_d,p_bite_1/output/116Cd_d,p_117Cd_18degrees_bite_1_peaks.txt',\n",
       " '/home/ben/Documents/analysis_code/spectrum_analysis/116Cd_d,p_bite_1/output/116Cd_d,p_117Cd_40degrees_bite_1_peaks.txt',\n",
       " '/home/ben/Documents/analysis_code/spectrum_analysis/116Cd_d,p_bite_1/output/116Cd_d,p_117Cd_25degrees_bite_1_peaks.txt',\n",
       " '/home/ben/Documents/analysis_code/spectrum_analysis/116Cd_d,p_bite_1/output/116Cd_d,p_117Cd_10degrees_bite_1_peaks.txt']"
      ]
     },
     "execution_count": 57,
     "metadata": {},
     "output_type": "execute_result"
    }
   ],
   "source": [
    "old_dp_files"
   ]
  },
  {
   "cell_type": "code",
   "execution_count": 80,
   "metadata": {},
   "outputs": [],
   "source": [
    "for file in old_dp_files:\n",
    "    df = pd.read_table(file, sep = ' ')\n",
    "    for i, angle in enumerate(angles_list):\n",
    "        if angle == file[92:94]:\n",
    "            df['CROSS_SECTION'] = df['CROSS_SECTION'] * norms[i]\n",
    "            #print(df['CROSS_SECTION'])\n",
    "            df['ERROR'] = df['CROSS_SECTION'] * np.sqrt( ((norms[i] * df['ERROR'])/df['CROSS_SECTION'])**2  + (norms_error[i]/norms[i])**2)\n",
    "            #pass\n",
    "            \n",
    "    df.to_csv(sep = ' ', path_or_buf = file)"
   ]
  },
  {
   "cell_type": "code",
   "execution_count": null,
   "metadata": {},
   "outputs": [],
   "source": []
  },
  {
   "cell_type": "code",
   "execution_count": null,
   "metadata": {},
   "outputs": [],
   "source": []
  }
 ],
 "metadata": {
  "kernelspec": {
   "display_name": "Python 3",
   "language": "python",
   "name": "python3"
  },
  "language_info": {
   "codemirror_mode": {
    "name": "ipython",
    "version": 3
   },
   "file_extension": ".py",
   "mimetype": "text/x-python",
   "name": "python",
   "nbconvert_exporter": "python",
   "pygments_lexer": "ipython3",
   "version": "3.6.5"
  }
 },
 "nbformat": 4,
 "nbformat_minor": 2
}
