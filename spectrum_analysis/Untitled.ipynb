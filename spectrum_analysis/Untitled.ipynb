{
 "cells": [
  {
   "cell_type": "code",
   "execution_count": 26,
   "metadata": {},
   "outputs": [],
   "source": [
    "import numpy as np\n",
    "import pandas as pd\n",
    "import glob\n",
    "import matplotlib.pyplot as plt\n",
    "%matplotlib inline"
   ]
  },
  {
   "cell_type": "code",
   "execution_count": 2,
   "metadata": {},
   "outputs": [],
   "source": [
    "dir1 = \"/home/ben/Documents/analysis_code/spectrum_analysis/output\"\n",
    "dir2 = \"/home/ben/Documents/analysis_code/spectrum_analysis/116Cd_d,p_bite_1_unnorm/output\""
   ]
  },
  {
   "cell_type": "code",
   "execution_count": 3,
   "metadata": {},
   "outputs": [],
   "source": [
    "files1 = glob.glob(dir1 + \"/*\")\n",
    "files2 = glob.glob(dir2 + \"/*\")"
   ]
  },
  {
   "cell_type": "code",
   "execution_count": 15,
   "metadata": {},
   "outputs": [],
   "source": [
    "files1 = np.sort(files1)\n",
    "files2 = np.sort(files2)"
   ]
  },
  {
   "cell_type": "code",
   "execution_count": 16,
   "metadata": {},
   "outputs": [],
   "source": [
    "tables_old = []\n",
    "tables_new = []\n",
    "\n",
    "for file in files2:\n",
    "    df = pd.read_table(file, sep = ' ')\n",
    "    idx = [0,2,9,10,14,18]\n",
    "    df = df.loc[idx,:]\n",
    "    df = df.reset_index()\n",
    "    df = df.loc[:,'PEAK_POSITION':]\n",
    "    tables_old.append([file, df])\n",
    "    \n",
    "for file in files1:\n",
    "    df = pd.read_table(file, sep = ' ')\n",
    "    idx = [0,1,2,3,4,5]\n",
    "    df[\"idx\"] = idx\n",
    "    df = df.reset_index()\n",
    "    df = df.loc[:,'PEAK_POSITION':]\n",
    "    tables_new.append([file, df])"
   ]
  },
  {
   "cell_type": "code",
   "execution_count": 43,
   "metadata": {
    "scrolled": true
   },
   "outputs": [
    {
     "data": {
      "text/plain": [
       "[['/home/ben/Documents/analysis_code/spectrum_analysis/116Cd_d,p_bite_1_unnorm/output/116Cd_d,p_117Cd_10degrees_bite_1_peaks.txt',\n",
       "     PEAK_POSITION  PEAK_ENERGY  CROSS_SECTION     ERROR\n",
       "  0        1862.14          0.0       3.781389  0.057589\n",
       "  1        1665.95        136.0       2.006683  0.041367\n",
       "  2        1174.20        498.0       0.114366  0.010544\n",
       "  3        1144.00        522.0       0.194666  0.013789\n",
       "  4         964.60        665.0       0.596165  0.023522\n",
       "  5         825.00        779.0       0.102200  0.009733],\n",
       " ['/home/ben/Documents/analysis_code/spectrum_analysis/116Cd_d,p_bite_1_unnorm/output/116Cd_d,p_117Cd_18degrees_bite_1_peaks.txt',\n",
       "     PEAK_POSITION  PEAK_ENERGY  CROSS_SECTION     ERROR\n",
       "  0        1861.04          0.0       0.293141  0.007158\n",
       "  1        1664.14        136.0       2.030011  0.018977\n",
       "  2        1172.10        498.0       0.075075  0.003995\n",
       "  3        1140.69        522.0       0.257518  0.006991\n",
       "  4         961.10        665.0       0.631060  0.010987\n",
       "  5         821.50        779.0       0.054433  0.003329],\n",
       " ['/home/ben/Documents/analysis_code/spectrum_analysis/116Cd_d,p_bite_1_unnorm/output/116Cd_d,p_117Cd_25degrees_bite_1_peaks.txt',\n",
       "     PEAK_POSITION  PEAK_ENERGY  CROSS_SECTION     ERROR\n",
       "  0        1865.57          0.0       0.638905  0.014622\n",
       "  1        1668.33        136.0       1.047358  0.018754\n",
       "  2        1175.60        498.0       0.068976  0.005086\n",
       "  3        1144.90        522.0       0.130006  0.006993\n",
       "  4         965.90        665.0       0.319452  0.010807\n",
       "  5         826.20        779.0       0.048951  0.004132],\n",
       " ['/home/ben/Documents/analysis_code/spectrum_analysis/116Cd_d,p_bite_1_unnorm/output/116Cd_d,p_117Cd_31degrees_bite_1_peaks.txt',\n",
       "     PEAK_POSITION  PEAK_ENERGY  CROSS_SECTION     ERROR\n",
       "  0        1861.67          0.0       1.245044  0.010059\n",
       "  1        1664.89        136.0       0.989279  0.008907\n",
       "  2        1171.89        498.0       0.137980  0.003455\n",
       "  3        1140.62        522.0       0.104349  0.003071\n",
       "  4         961.70        665.0       0.265671  0.004914\n",
       "  5         822.20        779.0       0.068491  0.002457],\n",
       " ['/home/ben/Documents/analysis_code/spectrum_analysis/116Cd_d,p_bite_1_unnorm/output/116Cd_d,p_117Cd_40degrees_bite_1_peaks.txt',\n",
       "     PEAK_POSITION  PEAK_ENERGY  CROSS_SECTION     ERROR\n",
       "  0        1867.86          0.0       1.034479  0.011230\n",
       "  1        1669.54        136.0       1.408941  0.013219\n",
       "  2        1176.09        498.0       0.219343  0.005381\n",
       "  3        1145.01        522.0       0.106571  0.003977\n",
       "  4         965.40        665.0       0.322288  0.006668\n",
       "  5         825.90        779.0       0.069488  0.003042]]"
      ]
     },
     "execution_count": 43,
     "metadata": {},
     "output_type": "execute_result"
    }
   ],
   "source": [
    "tables_old"
   ]
  },
  {
   "cell_type": "code",
   "execution_count": 41,
   "metadata": {},
   "outputs": [],
   "source": [
    "xso0, eo0 = [],[]\n",
    "xso1, eo1 = [],[]\n",
    "xso2, eo2 = [],[]\n",
    "xso3, eo3 = [],[]\n",
    "xso4, eo4 = [],[]\n",
    "xso5, eo5 = [],[]\n",
    "\n",
    "\n",
    "for i in range(len(tables_old)): \n",
    "    xso0.append(tables_old[i][1].loc[0,\"CROSS_SECTION\"])\n",
    "    xso1.append(tables_old[i][1].loc[1,\"CROSS_SECTION\"])   \n",
    "    xso2.append(tables_old[i][1].loc[2,\"CROSS_SECTION\"])\n",
    "    xso3.append(tables_old[i][1].loc[3,\"CROSS_SECTION\"])\n",
    "    xso4.append(tables_old[i][1].loc[4,\"CROSS_SECTION\"])\n",
    "    xso5.append(tables_old[i][1].loc[5,\"CROSS_SECTION\"])\n",
    "    \n",
    "    eo0.append(tables_old[i][1].loc[0,\"ERROR\"]) \n",
    "    eo1.append(tables_old[i][1].loc[1,\"ERROR\"]) \n",
    "    eo2.append(tables_old[i][1].loc[2,\"ERROR\"]) \n",
    "    eo3.append(tables_old[i][1].loc[3,\"ERROR\"]) \n",
    "    eo4.append(tables_old[i][1].loc[4,\"ERROR\"]) \n",
    "    eo5.append(tables_old[i][1].loc[5,\"ERROR\"]) "
   ]
  },
  {
   "cell_type": "code",
   "execution_count": 44,
   "metadata": {},
   "outputs": [
    {
     "data": {
      "text/plain": [
       "[0.06442378412573566,\n",
       " 0.02670339080342993,\n",
       " 0.03998510242022671,\n",
       " 0.03156683664772561,\n",
       " 0.05008442615180532,\n",
       " 0.02367681570388722]"
      ]
     },
     "execution_count": 44,
     "metadata": {},
     "output_type": "execute_result"
    }
   ],
   "source": [
    "xsn0, en0 = [],[]\n",
    "xsn1, en1 = [],[]\n",
    "xsn2, en2 = [],[]\n",
    "xsn3, en3 = [],[]\n",
    "xsn4, en4 = [],[]\n",
    "xsn5, en5 = [],[]\n",
    "\n",
    "for i in range(len(tables_new)): \n",
    "    xsn0.append(tables_new[i][1].loc[0,\"CROSS_SECTION\"])\n",
    "    xsn1.append(tables_new[i][1].loc[1,\"CROSS_SECTION\"])   \n",
    "    xsn2.append(tables_new[i][1].loc[2,\"CROSS_SECTION\"])\n",
    "    xsn3.append(tables_new[i][1].loc[3,\"CROSS_SECTION\"])\n",
    "    xsn4.append(tables_new[i][1].loc[4,\"CROSS_SECTION\"])\n",
    "    xsn5.append(tables_new[i][1].loc[5,\"CROSS_SECTION\"])\n",
    "    \n",
    "    en0.append(tables_new[i][1].loc[0,\"ERROR\"]) \n",
    "    en1.append(tables_new[i][1].loc[1,\"ERROR\"]) \n",
    "    en2.append(tables_new[i][1].loc[2,\"ERROR\"]) \n",
    "    en3.append(tables_new[i][1].loc[3,\"ERROR\"]) \n",
    "    en4.append(tables_new[i][1].loc[4,\"ERROR\"]) \n",
    "    en5.append(tables_new[i][1].loc[5,\"ERROR\"])\n",
    "    \n",
    "en0"
   ]
  },
  {
   "cell_type": "code",
   "execution_count": 45,
   "metadata": {},
   "outputs": [],
   "source": [
    "an = [12,18,25,31,35,40]\n",
    "ao = [10,18,25,31,40]"
   ]
  },
  {
   "cell_type": "code",
   "execution_count": 83,
   "metadata": {},
   "outputs": [
    {
     "data": {
      "image/png": "[encoded data removed]",
      "text/plain": [
       "<Figure size 432x288 with 1 Axes>"
      ]
     },
     "metadata": {
      "needs_background": "light"
     },
     "output_type": "display_data"
    }
   ],
   "source": [
    "fig, ax = plt.subplots()\n",
    "\n",
    "ax.set_xticks([10, 20, 30, 40])\n",
    "ax.set_xlabel(\"Angle (degrees)\")\n",
    "ax.set_ylabel(\"Cross Section (mb/sr)\")\n",
    "\n",
    "ax.errorbar(ao, xso5, eo5, color = 'r', label = \"Feb 18\")\n",
    "ax.errorbar(an, xsn5, en5, color = 'b', label = \"May 18\")\n",
    "\n",
    "fig.text(0.02,0.95, 779, ha=\"left\", va=\"top\", transform=plt.gca().transAxes)\n",
    "\n",
    "ax.legend()\n",
    "\n",
    "fig.savefig(\"febmaydists/ex5.png\")"
   ]
  },
  {
   "cell_type": "code",
   "execution_count": null,
   "metadata": {},
   "outputs": [],
   "source": []
  }
 ],
 "metadata": {
  "kernelspec": {
   "display_name": "Python 3",
   "language": "python",
   "name": "python3"
  },
  "language_info": {
   "codemirror_mode": {
    "name": "ipython",
    "version": 3
   },
   "file_extension": ".py",
   "mimetype": "text/x-python",
   "name": "python",
   "nbconvert_exporter": "python",
   "pygments_lexer": "ipython3",
   "version": "3.6.6"
  }
 },
 "nbformat": 4,
 "nbformat_minor": 2
}
