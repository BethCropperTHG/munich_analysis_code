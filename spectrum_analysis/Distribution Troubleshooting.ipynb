{
 "cells": [
  {
   "cell_type": "code",
   "execution_count": 1,
   "metadata": {},
   "outputs": [],
   "source": []
  },
  {
   "cell_type": "code",
   "execution_count": 7,
   "metadata": {},
   "outputs": [
    {
     "data": {
      "text/plain": [
       "'/home/ben/Documents/analysis_code/spectrum_analysis'"
      ]
     },
     "execution_count": 7,
     "metadata": {},
     "output_type": "execute_result"
    }
   ],
   "source": [
    "pwd"
   ]
  },
  {
   "cell_type": "code",
   "execution_count": 8,
   "metadata": {},
   "outputs": [
    {
     "name": "stdout",
     "output_type": "stream",
     "text": [
      "\u001b[0m\u001b[38;5;27m116Cd_d,p_bite_1\u001b[0m/                           Distribution Troubleshooting.ipynb\r\n",
      "\u001b[38;5;27m116Cd_d,p_bite_1_new\u001b[0m/                       energy_xsection_writer.py\r\n",
      "\u001b[38;5;27m116Cd_d,p_bite_1_patrickbic\u001b[0m/                \u001b[38;5;27mfeb_may_normalisation\u001b[0m/\r\n",
      "\u001b[38;5;27m116Cd_d,t_bite_1\u001b[0m/                           \u001b[38;5;27minput\u001b[0m/\r\n",
      "116Cd_p,d_115Cd_39degrees_bite_1_peaks.txt  notebook.tex\r\n",
      "\u001b[38;5;27m116Cd_p,d_bite_1\u001b[0m/                           \u001b[38;5;27moutput\u001b[0m/\r\n",
      "\u001b[38;5;27m116Cd_p,d_bite_1_different_bic\u001b[0m/             \u001b[38;5;13moutput_13_0.png\u001b[0m\r\n",
      "\u001b[38;5;27m116Cd_p,d_bite_2\u001b[0m/                           \u001b[38;5;13moutput_18_0.png\u001b[0m\r\n",
      "\u001b[38;5;27m116Cd_p,d_bite_3\u001b[0m/                           \u001b[38;5;27m__pycache__\u001b[0m/\r\n",
      "angle_dependent_normalisation.ipynb         \u001b[38;5;27mrun_properties\u001b[0m/\r\n",
      "bic_correction.ods                          spectroscopic_checker.ipynb\r\n",
      "Cross-section-checker.ipynb                 spectrum_classes.py\r\n"
     ]
    }
   ],
   "source": [
    "ls"
   ]
  },
  {
   "cell_type": "markdown",
   "metadata": {},
   "source": [
    "# Reading in Data"
   ]
  },
  {
   "cell_type": "code",
   "execution_count": 9,
   "metadata": {},
   "outputs": [
    {
     "data": {
      "text/plain": [
       "['116Cd_p,d_bite_2/input/116Cd_p,d_115Cd_39degrees_bite_2_peaks.pkl',\n",
       " '116Cd_p,d_bite_2/input/116Cd_p,d_115Cd_31degrees_bite_2_peaks.pkl',\n",
       " '116Cd_p,d_bite_2/input/116Cd_p,d_115Cd_26degrees_bite_2_peaks.pkl',\n",
       " '116Cd_p,d_bite_2/input/116Cd_p,d_115Cd_8degrees_bite_2_peaks.pkl',\n",
       " '116Cd_p,d_bite_2/input/116Cd_p,d_115Cd_17degrees_bite_2_peaks.pkl']"
      ]
     },
     "execution_count": 9,
     "metadata": {},
     "output_type": "execute_result"
    }
   ],
   "source": [
    "#glob gets filenames from the path.\n",
    "#In this case I'm getting all of the run properties (BIC, zero channel counts,\n",
    "#target thickness etc)\n",
    "#and the peak data (from 'input' directory)\n",
    "\n",
    "import glob\n",
    "\n",
    "bite2ps = glob.glob('116Cd_p,d_bite_2/run_properties/*')\n",
    "bite3ps = glob.glob('116Cd_p,d_bite_3/run_properties/*')\n",
    "bite3pk = glob.glob('116Cd_p,d_bite_3/input/*')\n",
    "bite2pk = glob.glob('116Cd_p,d_bite_2/input/*')\n",
    "bite2pk"
   ]
  },
  {
   "cell_type": "code",
   "execution_count": 10,
   "metadata": {},
   "outputs": [
    {
     "data": {
      "text/plain": [
       "['116Cd_p,d_bite_2/run_properties/116Cd_p,d_115Cd_8degrees_bite_2_properties.csv',\n",
       " '116Cd_p,d_bite_2/run_properties/116Cd_p,d_115Cd_17degrees_bite_2_properties.csv',\n",
       " '116Cd_p,d_bite_2/run_properties/116Cd_p,d_115Cd_26degrees_bite_2_properties.csv',\n",
       " '116Cd_p,d_bite_2/run_properties/116Cd_p,d_115Cd_31degrees_bite_2_properties.csv',\n",
       " '116Cd_p,d_bite_2/run_properties/116Cd_p,d_115Cd_39degrees_bite_2_properties.csv',\n",
       " '116Cd_p,d_bite_2/run_properties/116Cd_p,d_115Cd_17degrees_bite_2_properties_2200.csv']"
      ]
     },
     "execution_count": 10,
     "metadata": {},
     "output_type": "execute_result"
    }
   ],
   "source": [
    "bite2ps"
   ]
  },
  {
   "cell_type": "code",
   "execution_count": 11,
   "metadata": {
    "scrolled": true
   },
   "outputs": [
    {
     "data": {
      "text/html": [
       "<div>\n",
       "<style scoped>\n",
       "    .dataframe tbody tr th:only-of-type {\n",
       "        vertical-align: middle;\n",
       "    }\n",
       "\n",
       "    .dataframe tbody tr th {\n",
       "        vertical-align: top;\n",
       "    }\n",
       "\n",
       "    .dataframe thead th {\n",
       "        text-align: right;\n",
       "    }\n",
       "</style>\n",
       "<table border=\"1\" class=\"dataframe\">\n",
       "  <thead>\n",
       "    <tr style=\"text-align: right;\">\n",
       "      <th></th>\n",
       "      <th>TARGET_THICKNESS</th>\n",
       "      <th>THICKNESS_UNCERTAINTY</th>\n",
       "      <th>OMEGA</th>\n",
       "      <th>THETA</th>\n",
       "      <th>S1</th>\n",
       "      <th>S3</th>\n",
       "      <th>CURRENT_OFFSET</th>\n",
       "      <th>CURRENT_GRADIENT</th>\n",
       "      <th>RUN_TIME</th>\n",
       "      <th>FS</th>\n",
       "      <th>ZBEAM</th>\n",
       "      <th>ZTARGET</th>\n",
       "      <th>ATARGET</th>\n",
       "      <th>Ch1</th>\n",
       "      <th>e_Ch1</th>\n",
       "      <th>Rest</th>\n",
       "      <th>e_R</th>\n",
       "      <th>ISOTOPIC_PURITY</th>\n",
       "    </tr>\n",
       "  </thead>\n",
       "  <tbody>\n",
       "    <tr>\n",
       "      <th>0</th>\n",
       "      <td>47.11</td>\n",
       "      <td>1.42</td>\n",
       "      <td>7.25</td>\n",
       "      <td>8</td>\n",
       "      <td>297139</td>\n",
       "      <td>1654</td>\n",
       "      <td>-9.300000e+10</td>\n",
       "      <td>0.976</td>\n",
       "      <td>544</td>\n",
       "      <td>0.000002</td>\n",
       "      <td>1</td>\n",
       "      <td>48</td>\n",
       "      <td>116</td>\n",
       "      <td>281</td>\n",
       "      <td>17</td>\n",
       "      <td>12790</td>\n",
       "      <td>114</td>\n",
       "      <td>0.97</td>\n",
       "    </tr>\n",
       "  </tbody>\n",
       "</table>\n",
       "</div>"
      ],
      "text/plain": [
       "   TARGET_THICKNESS  THICKNESS_UNCERTAINTY  OMEGA  THETA      S1    S3  \\\n",
       "0             47.11                   1.42   7.25      8  297139  1654   \n",
       "\n",
       "   CURRENT_OFFSET  CURRENT_GRADIENT  RUN_TIME        FS  ZBEAM  ZTARGET  \\\n",
       "0   -9.300000e+10             0.976       544  0.000002      1       48   \n",
       "\n",
       "   ATARGET  Ch1  e_Ch1   Rest  e_R  ISOTOPIC_PURITY  \n",
       "0      116  281     17  12790  114             0.97  "
      ]
     },
     "execution_count": 11,
     "metadata": {},
     "output_type": "execute_result"
    }
   ],
   "source": [
    "#read in data. Pandas is a data analysis tool in python which allows me to read in\n",
    "#tables all at once and do operations on them\n",
    "#In my code I do this as a loop and work out the cross-sections and write to file \n",
    "#within that loop\n",
    "#Here I explicitly don't do this so I can rule out simply reading the\n",
    "#files in the wrong order aas the problem\n",
    "\n",
    "import pandas as pd\n",
    "\n",
    "#I'm reading in all my run and peak data. Naming convention is angle, bite,\n",
    "#then properties(ps) or peaks(pk)\n",
    "a8_b3_ps = pd.read_table(bite3ps[0], sep = ',') #csvs so separation is a comma\n",
    "a17_b3_ps = pd.read_table(bite3ps[1], sep = ',')\n",
    "a26_b3_ps = pd.read_table(bite3ps[2], sep = ',')\n",
    "a31_b3_ps = pd.read_table(bite3ps[3], sep = ',')\n",
    "a39_b3_ps = pd.read_table(bite3ps[4], sep = ',')\n",
    "\n",
    "a8_b2_ps = pd.read_table(bite2ps[0], sep = ',')\n",
    "a17_b2_ps = pd.read_table(bite2ps[1], sep = ',')\n",
    "a26_b2_ps = pd.read_table(bite2ps[2], sep = ',')\n",
    "a31_b2_ps = pd.read_table(bite2ps[3], sep = ',')\n",
    "a39_b2_ps = pd.read_table(bite2ps[4], sep = ',')\n",
    "\n",
    "a8_b3_pk = pd.read_pickle(bite3pk[4])# pickle is a format that pandas can read\n",
    "a17_b3_pk = pd.read_pickle(bite3pk[3])\n",
    "a26_b3_pk = pd.read_pickle(bite3pk[2])\n",
    "a31_b3_pk = pd.read_pickle(bite3pk[0])\n",
    "a39_b3_pk = pd.read_pickle(bite3pk[1])\n",
    "\n",
    "a8_b2_pk = pd.read_pickle(bite2pk[3])\n",
    "a17_b2_pk = pd.read_pickle(bite2pk[4])\n",
    "a26_b2_pk = pd.read_pickle(bite2pk[2])\n",
    "a31_b2_pk = pd.read_pickle(bite2pk[1])\n",
    "a39_b2_pk = pd.read_pickle(bite2pk[0])\n",
    "\n",
    "a8_b3_ps # This shows what my properties file looks like"
   ]
  },
  {
   "cell_type": "markdown",
   "metadata": {},
   "source": [
    "# Define Functions to Calculate Cross-sections"
   ]
  },
  {
   "cell_type": "code",
   "execution_count": 26,
   "metadata": {},
   "outputs": [],
   "source": [
    "#add column functions.\n",
    "import math\n",
    "\n",
    "def beam_offset(df): #The offset in the BCI, in number of particles over the run\n",
    "    return df[\"CURRENT_OFFSET\"] * df[\"RUN_TIME\"]\n",
    "\n",
    "#The number of particles in the beam if there was no BCI correction\n",
    "def no_beam_uncorrected(df): \n",
    "    return ((df[\"S1\"]-df[\"S3\"]) * df[\"FS\"])/(df[\"ZBEAM\"]*1.61e-19*1000)\n",
    "\n",
    "#The number of particles in the beam, applying the BCI correction\n",
    "def no_beam(uncorrected, offset, df):\n",
    "    return uncorrected * float(df[\"CURRENT_GRADIENT\"]) + offset\n",
    "\n",
    "def snobeam(df): #The error in this\n",
    "    return ((math.sqrt(df[\"S1\"])-math.sqrt(df[\"S3\"]) * df[\"FS\"])/(df[\"ZBEAM\"]*1.61e-19*1000))\n",
    "\n",
    "def no_target(df): #Number of atoms in the target per millibarn\n",
    "    return df[\"TARGET_THICKNESS\"]/(df[\"ATARGET\"]*1.661e-18)\n",
    "\n",
    "def sno_target(df): #The uncertainty in this\n",
    "    return df[\"THICKNESS_UNCERTAINTY\"]/(df[\"ATARGET\"]*1.661e-18)\n",
    "\n",
    "def efficiency(df): #Zero-channel correction\n",
    "    return df[\"Rest\"]/(df[\"Rest\"] + df[\"Ch1\"])\n",
    "\n",
    "def seff(df, eff): #error in this\n",
    "    return eff * math.sqrt((df[\"Rest\"]/df[\"e_R\"])**2+((math.sqrt(df[\"e_Ch1\"]\n",
    "           **2+df[\"e_R\"]**2))/(df[\"Ch1\"] + df[\"Rest\"]))**2)\n",
    "\n",
    "#def cross(peak, notarget, nobeam, omega, purity, eff): #Cross-section calculator\n",
    "#    return float((1e27*peak[\"AREA\"])/(notarget*nobeam*(omega/1000)*purity*eff))"
   ]
  },
  {
   "cell_type": "markdown",
   "metadata": {},
   "source": [
    "# Ruling out the zero-channel correction as the culprit"
   ]
  },
  {
   "cell_type": "code",
   "execution_count": 87,
   "metadata": {},
   "outputs": [
    {
     "data": {
      "text/plain": [
       "0.9642381755257787"
      ]
     },
     "execution_count": 87,
     "metadata": {},
     "output_type": "execute_result"
    }
   ],
   "source": [
    "float(efficiency(a17_b3_ps))"
   ]
  },
  {
   "cell_type": "code",
   "execution_count": 88,
   "metadata": {},
   "outputs": [
    {
     "data": {
      "text/plain": [
       "0.9938793848866584"
      ]
     },
     "execution_count": 88,
     "metadata": {},
     "output_type": "execute_result"
    }
   ],
   "source": [
    "float(efficiency(a17_b2_ps))"
   ]
  },
  {
   "cell_type": "markdown",
   "metadata": {},
   "source": [
    "Between the 17 degree bite 2 and 3 runs, there is a ~3% difference in efficiency, meaning this is\n",
    "likely not to blame for the discrepancy"
   ]
  },
  {
   "cell_type": "markdown",
   "metadata": {},
   "source": [
    "# Ruling out the BIC correction"
   ]
  },
  {
   "cell_type": "code",
   "execution_count": 89,
   "metadata": {},
   "outputs": [
    {
     "data": {
      "text/plain": [
       "-49383000000000.0"
      ]
     },
     "execution_count": 89,
     "metadata": {},
     "output_type": "execute_result"
    }
   ],
   "source": [
    "float(beam_offset(a17_b3_ps))"
   ]
  },
  {
   "cell_type": "code",
   "execution_count": 90,
   "metadata": {},
   "outputs": [
    {
     "data": {
      "text/plain": [
       "-66030000000000.0"
      ]
     },
     "execution_count": 90,
     "metadata": {},
     "output_type": "execute_result"
    }
   ],
   "source": [
    "float(beam_offset(a17_b2_ps))"
   ]
  },
  {
   "cell_type": "markdown",
   "metadata": {},
   "source": [
    "So there's a big difference in the raw beam offsets between bite 2 and 3, but can it cause the factor of 2 difference?"
   ]
  },
  {
   "cell_type": "code",
   "execution_count": 91,
   "metadata": {},
   "outputs": [],
   "source": [
    "#Work out distributions with the BIC correction applied and without it.\n",
    "#I do this for the 2113keV state, which is l = 2 in bite 3 and l = 0 in bite 2\n",
    "#This is for both bites also\n",
    "\n",
    "#numpy contains good array objects \n",
    "import numpy as np\n",
    "\n",
    "#initialise arrays for bite 2 and 3 distributions with BIC corrections applied\n",
    "bite_2_dist = np.zeros(5)\n",
    "bite_3_dist = np.zeros(5)\n",
    "\n",
    "\n",
    "#bite 2\n",
    "df = a8_b2_ps\n",
    "pk = a8_b2_pk.loc[39]\n",
    "\n",
    "xs = cross(pk, float(no_target(df)), no_beam(float(no_beam_uncorrected(df)),\n",
    "float(beam_offset(df)), df), float(df[\"OMEGA\"]), 0.97, float(efficiency(df)))\n",
    "\n",
    "bite_2_dist[0] = xs\n",
    "\n",
    "\n",
    "df = a17_b2_ps\n",
    "pk = a17_b2_pk.loc[39]\n",
    "\n",
    "xs = cross(pk, float(no_target(df)), no_beam(float(no_beam_uncorrected(df)), \n",
    "float(beam_offset(df)), df), float(df[\"OMEGA\"]), 0.97, float(efficiency(df)))\n",
    "\n",
    "bite_2_dist[1] = xs\n",
    "\n",
    "\n",
    "df = a26_b2_ps\n",
    "pk = a26_b2_pk.loc[39]\n",
    "\n",
    "xs = cross(pk, float(no_target(df)), no_beam(float(no_beam_uncorrected(df)),\n",
    "float(beam_offset(df)), df), float(df[\"OMEGA\"]), 0.97, float(efficiency(df)))\n",
    "\n",
    "bite_2_dist[2] = xs\n",
    "\n",
    "\n",
    "df = a31_b2_ps\n",
    "pk = a31_b2_pk.loc[39]\n",
    "\n",
    "xs = cross(pk, float(no_target(df)), no_beam(float(no_beam_uncorrected(df)),\n",
    "float(beam_offset(df)), df), float(df[\"OMEGA\"]), 0.97, float(efficiency(df)))\n",
    "\n",
    "bite_2_dist[3] = xs\n",
    "\n",
    "\n",
    "df = a39_b2_ps\n",
    "pk = a39_b2_pk.loc[39]\n",
    "\n",
    "xs = cross(pk, float(no_target(df)), no_beam(float(no_beam_uncorrected(df)),\n",
    "float(beam_offset(df)), df), float(df[\"OMEGA\"]), 0.97, float(efficiency(df)))\n",
    "\n",
    "bite_2_dist[4] = xs\n",
    "\n",
    "\n",
    "#bite 3\n",
    "df = a8_b3_ps\n",
    "pk = a8_b3_pk.loc[5]\n",
    "\n",
    "xs = cross(pk, float(no_target(df)), no_beam(float(no_beam_uncorrected(df)),\n",
    "float(beam_offset(df)), df), float(df[\"OMEGA\"]), 0.97, float(efficiency(df)))\n",
    "\n",
    "bite_3_dist[0] = xs\n",
    "\n",
    "\n",
    "df = a17_b3_ps\n",
    "pk = a17_b3_pk.loc[5]\n",
    "\n",
    "xs = cross(pk, float(no_target(df)), no_beam(float(no_beam_uncorrected(df)),\n",
    "float(beam_offset(df)), df), float(df[\"OMEGA\"]), 0.97, float(efficiency(df)))\n",
    "\n",
    "bite_3_dist[1] = xs\n",
    "\n",
    "\n",
    "df = a26_b3_ps\n",
    "pk = a26_b3_pk.loc[5]\n",
    "\n",
    "xs = cross(pk, float(no_target(df)), no_beam(float(no_beam_uncorrected(df)),\n",
    "float(beam_offset(df)), df), float(df[\"OMEGA\"]), 0.97, float(efficiency(df)))\n",
    "\n",
    "bite_3_dist[2] = xs\n",
    "\n",
    "\n",
    "df = a31_b3_ps\n",
    "pk = a31_b3_pk.loc[5]\n",
    "\n",
    "xs = cross(pk, float(no_target(df)), no_beam(float(no_beam_uncorrected(df)),\n",
    "float(beam_offset(df)), df), float(df[\"OMEGA\"]), 0.97, float(efficiency(df)))\n",
    "\n",
    "bite_3_dist[3] = xs\n",
    "\n",
    "\n",
    "df = a39_b3_ps\n",
    "pk = a39_b3_pk.loc[5]\n",
    "\n",
    "xs = cross(pk, float(no_target(df)), no_beam(float(no_beam_uncorrected(df)),\n",
    "float(beam_offset(df)), df), float(df[\"OMEGA\"]), 0.97, float(efficiency(df)))\n",
    "\n",
    "bite_3_dist[4] = xs"
   ]
  },
  {
   "cell_type": "code",
   "execution_count": 99,
   "metadata": {},
   "outputs": [],
   "source": [
    "#no bic, same again\n",
    "#You can see I use the uncorrected number in the beam instead of the corrected in the cross-section arguments\n",
    "\n",
    "bite_2_no_bic = np.zeros(5)\n",
    "bite_3_no_bic = np.zeros(5)\n",
    "\n",
    "df = a8_b2_ps\n",
    "pk = a8_b2_pk.loc[39]\n",
    "xs = cross(pk, float(no_target(df)), float(no_beam_uncorrected(df)),\n",
    "           float(df[\"OMEGA\"]), 0.97, float(efficiency(df)))\n",
    "bite_2_no_bic[0] = xs\n",
    "\n",
    "df = a17_b2_ps\n",
    "pk = a17_b2_pk.loc[39]\n",
    "xs = cross(pk, float(no_target(df)), float(no_beam_uncorrected(df)),\n",
    "           float(df[\"OMEGA\"]), 0.97, float(efficiency(df)))\n",
    "bite_2_no_bic[1] = xs\n",
    "\n",
    "df = a26_b2_ps\n",
    "pk = a26_b2_pk.loc[39]\n",
    "xs = cross(pk, float(no_target(df)), float(no_beam_uncorrected(df)),\n",
    "           float(df[\"OMEGA\"]), 0.97, float(efficiency(df)))\n",
    "bite_2_no_bic[2] = xs\n",
    "\n",
    "df = a31_b2_ps\n",
    "pk = a31_b2_pk.loc[39]\n",
    "xs = cross(pk, float(no_target(df)), float(no_beam_uncorrected(df)),\n",
    "           float(df[\"OMEGA\"]), 0.97, float(efficiency(df)))\n",
    "bite_2_no_bic[3] = xs\n",
    "\n",
    "df = a39_b2_ps\n",
    "pk = a39_b2_pk.loc[39]\n",
    "xs = cross(pk, float(no_target(df)), float(no_beam_uncorrected(df)),\n",
    "           float(df[\"OMEGA\"]), 0.97, float(efficiency(df)))\n",
    "bite_2_no_bic[4] = xs\n",
    "\n",
    "\n",
    "\n",
    "df = a8_b3_ps\n",
    "pk = a8_b3_pk.loc[5]\n",
    "xs = cross(pk, float(no_target(df)), float(no_beam_uncorrected(df)),\n",
    "           float(df[\"OMEGA\"]), 0.97, float(efficiency(df)))\n",
    "bite_3_no_bic[0] = xs\n",
    "\n",
    "df = a17_b3_ps\n",
    "pk = a17_b3_pk.loc[5]\n",
    "xs = cross(pk, float(no_target(df)), float(no_beam_uncorrected(df)),\n",
    "           float(df[\"OMEGA\"]), 0.97, float(efficiency(df)))\n",
    "bite_3_no_bic[1] = xs\n",
    "\n",
    "df = a26_b3_ps\n",
    "pk = a26_b3_pk.loc[5]\n",
    "xs = cross(pk, float(no_target(df)), float(no_beam_uncorrected(df)),\n",
    "           float(df[\"OMEGA\"]), 0.97, float(efficiency(df)))\n",
    "bite_3_no_bic[2] = xs\n",
    "\n",
    "df = a31_b3_ps\n",
    "pk = a31_b3_pk.loc[5]\n",
    "xs = cross(pk, float(no_target(df)), float(no_beam_uncorrected(df)),\n",
    "           float(df[\"OMEGA\"]), 0.97, float(efficiency(df)))\n",
    "bite_3_no_bic[3] = xs\n",
    "\n",
    "df = a39_b3_ps\n",
    "pk = a39_b3_pk.loc[5]\n",
    "xs = cross(pk, float(no_target(df)), float(no_beam_uncorrected(df)),\n",
    "           float(df[\"OMEGA\"]), 0.97, float(efficiency(df)))\n",
    "bite_3_no_bic[4] = xs"
   ]
  },
  {
   "cell_type": "code",
   "execution_count": 100,
   "metadata": {},
   "outputs": [
    {
     "data": {
      "image/png": "[encoded data removed]",
      "text/plain": [
       "<Figure size 432x288 with 1 Axes>"
      ]
     },
     "metadata": {},
     "output_type": "display_data"
    }
   ],
   "source": [
    "#Now to plot the distributions\n",
    "\n",
    "#Plotting package\n",
    "import matplotlib.pyplot as plt\n",
    "%matplotlib inline\n",
    "\n",
    "#Set the agles and do the plots\n",
    "angles = np.array([8,17,26,31,39])\n",
    "plt.plot(angles, bite_2_dist)\n",
    "plt.plot(angles,bite_3_dist)\n",
    "\n",
    "plt.plot(angles, bite_2_no_bic)\n",
    "plt.plot(angles, bite_3_no_bic)\n",
    "\n",
    "plt.show()"
   ]
  },
  {
   "cell_type": "markdown",
   "metadata": {},
   "source": [
    "Whether the BIC correction is there or not is a small effect"
   ]
  },
  {
   "cell_type": "code",
   "execution_count": 94,
   "metadata": {},
   "outputs": [
    {
     "name": "stdout",
     "output_type": "stream",
     "text": [
      "[1.05489447 0.53030483 1.22136366 1.16589028 0.73218368]\n"
     ]
    }
   ],
   "source": [
    "print(bite_2_dist/bite_3_dist)"
   ]
  },
  {
   "cell_type": "markdown",
   "metadata": {},
   "source": [
    "# Checking the Fits and Whether I've Mislabeled my Files"
   ]
  },
  {
   "cell_type": "code",
   "execution_count": 28,
   "metadata": {},
   "outputs": [
    {
     "name": "stdout",
     "output_type": "stream",
     "text": [
      "[ 376.  600. 1088.  608.  349.]\n",
      "[351. 834. 953. 538. 632.]\n"
     ]
    }
   ],
   "source": [
    "#not efficiency - numbers too similar\n",
    "#not bic - effect isn't large enough\n",
    "#not reading in files at this stage - done it manually here\n",
    "#not bad properties input because it's only the scalers left not tested,\n",
    "#and they match the mbslog\n",
    "import numpy as np\n",
    "\n",
    "#things not yet ruled out\n",
    "#files labelled as wrong angle\n",
    "#bad fit\n",
    "#next check the relative areas of peaks\n",
    "raw_areas_2 = np.zeros(5)\n",
    "raw_areas_3 = np.zeros(5)\n",
    "\n",
    "norm_areas_2 = np.zeros(5)\n",
    "norm_areas_3 = np.zeros(5)\n",
    "\n",
    "#Here I'm reading the yields normalised by the run time to check if\n",
    "#the same pattern is seen in the raw data\n",
    "norm_areas_2[0] = a8_b2_pk.loc[39][\"AREA\"]/float(a8_b2_ps['RUN_TIME'])\n",
    "norm_areas_2[1] = a17_b2_pk.loc[39][\"AREA\"]/float(a17_b2_ps['RUN_TIME'])\n",
    "norm_areas_2[2] = a26_b2_pk.loc[39][\"AREA\"]/float(a17_b2_ps['RUN_TIME'])\n",
    "norm_areas_2[3] = a31_b2_pk.loc[39][\"AREA\"]/float(a17_b2_ps['RUN_TIME'])\n",
    "norm_areas_2[4] = a39_b2_pk.loc[39][\"AREA\"]/float(a17_b2_ps['RUN_TIME'])\n",
    "\n",
    "norm_areas_3[0] = a8_b3_pk.loc[5][\"AREA\"]/float(a8_b3_ps['RUN_TIME'])\n",
    "norm_areas_3[1] = a17_b3_pk.loc[5][\"AREA\"]/float(a17_b3_ps['RUN_TIME'])\n",
    "norm_areas_3[2] = a26_b3_pk.loc[5][\"AREA\"]/float(a26_b3_ps['RUN_TIME'])\n",
    "norm_areas_3[3] = a31_b3_pk.loc[5][\"AREA\"]/float(a31_b3_ps['RUN_TIME'])\n",
    "norm_areas_3[4] = a39_b3_pk.loc[5][\"AREA\"]/float(a39_b3_ps['RUN_TIME'])\n",
    "\n",
    "#Here I'm extracting the raw data so I can compare it to the raw data\n",
    "#I've screenshotted from doing the fit\n",
    "#This makes sure I'm reading in the right data!\n",
    "raw_areas_2[0] = a8_b2_pk.loc[39][\"AREA\"]\n",
    "raw_areas_2[1] = a17_b2_pk.loc[39][\"AREA\"]\n",
    "raw_areas_2[2] = a26_b2_pk.loc[39][\"AREA\"]\n",
    "raw_areas_2[3] = a31_b2_pk.loc[39][\"AREA\"]\n",
    "raw_areas_2[4] = a39_b2_pk.loc[39][\"AREA\"]\n",
    "\n",
    "raw_areas_3[0] = a8_b3_pk.loc[5][\"AREA\"]\n",
    "raw_areas_3[1] = a17_b3_pk.loc[5][\"AREA\"]\n",
    "raw_areas_3[2] = a26_b3_pk.loc[5][\"AREA\"]\n",
    "raw_areas_3[3] = a31_b3_pk.loc[5][\"AREA\"]\n",
    "raw_areas_3[4] = a39_b3_pk.loc[5][\"AREA\"]\n",
    "\n",
    "print(raw_areas_2)\n",
    "print(raw_areas_3)"
   ]
  },
  {
   "cell_type": "code",
   "execution_count": 119,
   "metadata": {},
   "outputs": [
    {
     "data": {
      "text/plain": [
       "array([1.06925952, 0.53804843, 0.99372478, 1.01073355, 0.70310216])"
      ]
     },
     "execution_count": 119,
     "metadata": {},
     "output_type": "execute_result"
    }
   ],
   "source": [
    "#area/time normalisation\n",
    "(norm_areas_2/norm_areas_3)\n"
   ]
  },
  {
   "cell_type": "code",
   "execution_count": 116,
   "metadata": {},
   "outputs": [
    {
     "data": {
      "text/plain": [
       "1.0396831697141296"
      ]
     },
     "execution_count": 116,
     "metadata": {},
     "output_type": "execute_result"
    }
   ],
   "source": [
    "#so those are consistently inconsistent, so it must be something before getting the\n",
    "#areas\n",
    "#which means either the areas here are mismatched to the raw data or the fit is bad\n",
    "#areas match (see overleaf), therefore bad fit.\n",
    "#however\n",
    "(424/969) / (351/834) #The first bit are the raw areas for my new fit\n",
    "#the ratios of the 8 and 17 degree measurements are the same for my new fit."
   ]
  },
  {
   "cell_type": "code",
   "execution_count": 1,
   "metadata": {},
   "outputs": [],
   "source": [
    "#in summary, I have no idea"
   ]
  },
  {
   "cell_type": "code",
   "execution_count": 12,
   "metadata": {},
   "outputs": [
    {
     "data": {
      "text/html": [
       "<div>\n",
       "<style scoped>\n",
       "    .dataframe tbody tr th:only-of-type {\n",
       "        vertical-align: middle;\n",
       "    }\n",
       "\n",
       "    .dataframe tbody tr th {\n",
       "        vertical-align: top;\n",
       "    }\n",
       "\n",
       "    .dataframe thead th {\n",
       "        text-align: right;\n",
       "    }\n",
       "</style>\n",
       "<table border=\"1\" class=\"dataframe\">\n",
       "  <thead>\n",
       "    <tr style=\"text-align: right;\">\n",
       "      <th></th>\n",
       "      <th>TARGET_THICKNESS</th>\n",
       "      <th>THICKNESS_UNCERTAINTY</th>\n",
       "      <th>OMEGA</th>\n",
       "      <th>THETA</th>\n",
       "      <th>S1</th>\n",
       "      <th>S3</th>\n",
       "      <th>CURRENT_OFFSET</th>\n",
       "      <th>CURRENT_GRADIENT</th>\n",
       "      <th>RUN_TIME</th>\n",
       "      <th>FS</th>\n",
       "      <th>ZBEAM</th>\n",
       "      <th>ZTARGET</th>\n",
       "      <th>ATARGET</th>\n",
       "      <th>Ch1</th>\n",
       "      <th>e_Ch1</th>\n",
       "      <th>Rest</th>\n",
       "      <th>e_R</th>\n",
       "      <th>ISOTOPIC_PURITY</th>\n",
       "    </tr>\n",
       "  </thead>\n",
       "  <tbody>\n",
       "    <tr>\n",
       "      <th>0</th>\n",
       "      <td>47.11</td>\n",
       "      <td>1.42</td>\n",
       "      <td>14.03</td>\n",
       "      <td>17</td>\n",
       "      <td>371505</td>\n",
       "      <td>3374</td>\n",
       "      <td>-9.300000e+10</td>\n",
       "      <td>0.976</td>\n",
       "      <td>710</td>\n",
       "      <td>0.000002</td>\n",
       "      <td>1</td>\n",
       "      <td>48</td>\n",
       "      <td>116</td>\n",
       "      <td>361</td>\n",
       "      <td>19</td>\n",
       "      <td>58620</td>\n",
       "      <td>242</td>\n",
       "      <td>0.97</td>\n",
       "    </tr>\n",
       "  </tbody>\n",
       "</table>\n",
       "</div>"
      ],
      "text/plain": [
       "   TARGET_THICKNESS  THICKNESS_UNCERTAINTY  OMEGA  THETA      S1    S3  \\\n",
       "0             47.11                   1.42  14.03     17  371505  3374   \n",
       "\n",
       "   CURRENT_OFFSET  CURRENT_GRADIENT  RUN_TIME        FS  ZBEAM  ZTARGET  \\\n",
       "0   -9.300000e+10             0.976       710  0.000002      1       48   \n",
       "\n",
       "   ATARGET  Ch1  e_Ch1   Rest  e_R  ISOTOPIC_PURITY  \n",
       "0      116  361     19  58620  242             0.97  "
      ]
     },
     "execution_count": 12,
     "metadata": {},
     "output_type": "execute_result"
    }
   ],
   "source": [
    "a17_b2_ps"
   ]
  },
  {
   "cell_type": "code",
   "execution_count": 20,
   "metadata": {},
   "outputs": [],
   "source": [
    "p_2200 = pd.read_table('116Cd_p,d_bite_3/run_properties/116Cd_p,d_115Cd_17degrees_bite_3_properties_2200.csv', sep = ',')"
   ]
  },
  {
   "cell_type": "code",
   "execution_count": 33,
   "metadata": {},
   "outputs": [
    {
     "data": {
      "text/html": [
       "<div>\n",
       "<style scoped>\n",
       "    .dataframe tbody tr th:only-of-type {\n",
       "        vertical-align: middle;\n",
       "    }\n",
       "\n",
       "    .dataframe tbody tr th {\n",
       "        vertical-align: top;\n",
       "    }\n",
       "\n",
       "    .dataframe thead th {\n",
       "        text-align: right;\n",
       "    }\n",
       "</style>\n",
       "<table border=\"1\" class=\"dataframe\">\n",
       "  <thead>\n",
       "    <tr style=\"text-align: right;\">\n",
       "      <th></th>\n",
       "      <th>TARGET_THICKNESS</th>\n",
       "      <th>THICKNESS_UNCERTAINTY</th>\n",
       "      <th>OMEGA</th>\n",
       "      <th>THETA</th>\n",
       "      <th>S1</th>\n",
       "      <th>S3</th>\n",
       "      <th>CURRENT_OFFSET</th>\n",
       "      <th>CURRENT_GRADIENT</th>\n",
       "      <th>RUN_TIME</th>\n",
       "      <th>FS</th>\n",
       "      <th>ZBEAM</th>\n",
       "      <th>ZTARGET</th>\n",
       "      <th>ATARGET</th>\n",
       "      <th>Ch1</th>\n",
       "      <th>e_Ch1</th>\n",
       "      <th>Rest</th>\n",
       "      <th>e_R</th>\n",
       "      <th>ISOTOPIC_PURITY</th>\n",
       "    </tr>\n",
       "  </thead>\n",
       "  <tbody>\n",
       "    <tr>\n",
       "      <th>0</th>\n",
       "      <td>47.11</td>\n",
       "      <td>1.42</td>\n",
       "      <td>14.03</td>\n",
       "      <td>17</td>\n",
       "      <td>170419</td>\n",
       "      <td>1596</td>\n",
       "      <td>-9.300000e+10</td>\n",
       "      <td>0.976</td>\n",
       "      <td>321</td>\n",
       "      <td>0.000002</td>\n",
       "      <td>1</td>\n",
       "      <td>48</td>\n",
       "      <td>116</td>\n",
       "      <td>271</td>\n",
       "      <td>16</td>\n",
       "      <td>13414</td>\n",
       "      <td>117</td>\n",
       "      <td>0.97</td>\n",
       "    </tr>\n",
       "  </tbody>\n",
       "</table>\n",
       "</div>"
      ],
      "text/plain": [
       "   TARGET_THICKNESS  THICKNESS_UNCERTAINTY  OMEGA  THETA      S1    S3  \\\n",
       "0             47.11                   1.42  14.03     17  170419  1596   \n",
       "\n",
       "   CURRENT_OFFSET  CURRENT_GRADIENT  RUN_TIME        FS  ZBEAM  ZTARGET  \\\n",
       "0   -9.300000e+10             0.976       321  0.000002      1       48   \n",
       "\n",
       "   ATARGET  Ch1  e_Ch1   Rest  e_R  ISOTOPIC_PURITY  \n",
       "0      116  271     16  13414  117             0.97  "
      ]
     },
     "execution_count": 33,
     "metadata": {},
     "output_type": "execute_result"
    }
   ],
   "source": [
    "p_2200"
   ]
  },
  {
   "cell_type": "code",
   "execution_count": 34,
   "metadata": {},
   "outputs": [],
   "source": [
    "norm_area_2200 = 518/no_beam_uncorrected(p_2200)\n",
    "norm_area_2100 = raw_areas_3[1]/no_beam_uncorrected(a17_b3_ps)\n",
    "norm_area_1500 = raw_areas_2[1]/no_beam_uncorrected(a17_b2_ps)"
   ]
  },
  {
   "cell_type": "code",
   "execution_count": 35,
   "metadata": {},
   "outputs": [
    {
     "data": {
      "text/plain": [
       "0    2.469983e-13\n",
       "dtype: float64"
      ]
     },
     "execution_count": 35,
     "metadata": {},
     "output_type": "execute_result"
    }
   ],
   "source": [
    "norm_area_2200"
   ]
  },
  {
   "cell_type": "code",
   "execution_count": 36,
   "metadata": {},
   "outputs": [
    {
     "data": {
      "text/plain": [
       "0    2.400880e-13\n",
       "dtype: float64"
      ]
     },
     "execution_count": 36,
     "metadata": {},
     "output_type": "execute_result"
    }
   ],
   "source": [
    "norm_area_2100"
   ]
  },
  {
   "cell_type": "code",
   "execution_count": 37,
   "metadata": {},
   "outputs": [
    {
     "data": {
      "text/plain": [
       "0    1.312033e-13\n",
       "dtype: float64"
      ]
     },
     "execution_count": 37,
     "metadata": {},
     "output_type": "execute_result"
    }
   ],
   "source": [
    "norm_area_1500"
   ]
  },
  {
   "cell_type": "code",
   "execution_count": null,
   "metadata": {},
   "outputs": [],
   "source": []
  }
 ],
 "metadata": {
  "kernelspec": {
   "display_name": "Python 3",
   "language": "python",
   "name": "python3"
  },
  "language_info": {
   "codemirror_mode": {
    "name": "ipython",
    "version": 3
   },
   "file_extension": ".py",
   "mimetype": "text/x-python",
   "name": "python",
   "nbconvert_exporter": "python",
   "pygments_lexer": "ipython3",
   "version": "3.6.5"
  }
 },
 "nbformat": 4,
 "nbformat_minor": 2
}
