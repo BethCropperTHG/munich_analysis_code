{
 "cells": [
  {
   "cell_type": "code",
   "execution_count": 1,
   "metadata": {},
   "outputs": [],
   "source": [
    "state_number2 = 5\n",
    "state_number = state_number2 + 34"
   ]
  },
  {
   "cell_type": "code",
   "execution_count": 2,
   "metadata": {},
   "outputs": [
    {
     "name": "stdout",
     "output_type": "stream",
     "text": [
      "\u001b[0m\u001b[38;5;27m116Cd_d,p_bite_1\u001b[0m/                           Cross-section-checker.ipynb\r\n",
      "\u001b[38;5;27m116Cd_d,p_bite_1_new\u001b[0m/                       energy_xsection_writer.py\r\n",
      "\u001b[38;5;27m116Cd_d,p_bite_1_patrickbic\u001b[0m/                \u001b[38;5;27mfeb_may_normalisation\u001b[0m/\r\n",
      "\u001b[38;5;27m116Cd_d,t_bite_1\u001b[0m/                           \u001b[38;5;27minput\u001b[0m/\r\n",
      "116Cd_p,d_115Cd_39degrees_bite_1_peaks.txt  \u001b[38;5;27moutput\u001b[0m/\r\n",
      "\u001b[38;5;27m116Cd_p,d_bite_1\u001b[0m/                           \u001b[38;5;27m__pycache__\u001b[0m/\r\n",
      "\u001b[38;5;27m116Cd_p,d_bite_1_different_bic\u001b[0m/             \u001b[38;5;27mrun_properties\u001b[0m/\r\n",
      "\u001b[38;5;27m116Cd_p,d_bite_2\u001b[0m/                           spectroscopic_checker.ipynb\r\n",
      "\u001b[38;5;27m116Cd_p,d_bite_3\u001b[0m/                           spectrum_classes.py\r\n",
      "angle_dependent_normalisation.ipynb         Untitled.ipynb\r\n",
      "bic_correction.ods\r\n"
     ]
    }
   ],
   "source": [
    "ls"
   ]
  },
  {
   "cell_type": "code",
   "execution_count": 3,
   "metadata": {},
   "outputs": [
    {
     "data": {
      "text/plain": [
       "'/home/ben/Documents/analysis_code/spectrum_analysis'"
      ]
     },
     "execution_count": 3,
     "metadata": {},
     "output_type": "execute_result"
    }
   ],
   "source": [
    "pwd"
   ]
  },
  {
   "cell_type": "markdown",
   "metadata": {},
   "source": [
    "# Get Data From One Bite"
   ]
  },
  {
   "cell_type": "code",
   "execution_count": 4,
   "metadata": {},
   "outputs": [
    {
     "name": "stdout",
     "output_type": "stream",
     "text": [
      "/home/ben/Documents/analysis_code/spectrum_analysis/116Cd_p,d_bite_2/output\n"
     ]
    }
   ],
   "source": [
    "cd /home/ben/Documents/analysis_code/spectrum_analysis/116Cd_p,d_bite_2/output"
   ]
  },
  {
   "cell_type": "code",
   "execution_count": 5,
   "metadata": {},
   "outputs": [
    {
     "name": "stdout",
     "output_type": "stream",
     "text": [
      "116Cd_p,d_115Cd_17degrees_bite_2_peaks.txt\r\n",
      "116Cd_p,d_115Cd_26degrees_bite_2_peaks.txt\r\n",
      "116Cd_p,d_115Cd_31degrees_bite_2_peaks.txt\r\n",
      "116Cd_p,d_115Cd_39degrees_bite_2_peaks.txt\r\n",
      "116Cd_p,d_115Cd_8degrees_bite_2_peaks.txt\r\n"
     ]
    }
   ],
   "source": [
    "ls"
   ]
  },
  {
   "cell_type": "code",
   "execution_count": 6,
   "metadata": {},
   "outputs": [
    {
     "data": {
      "text/plain": [
       "['116Cd_p,d_115Cd_8degrees_bite_2_peaks.txt',\n",
       " '116Cd_p,d_115Cd_17degrees_bite_2_peaks.txt',\n",
       " '116Cd_p,d_115Cd_26degrees_bite_2_peaks.txt',\n",
       " '116Cd_p,d_115Cd_31degrees_bite_2_peaks.txt',\n",
       " '116Cd_p,d_115Cd_39degrees_bite_2_peaks.txt']"
      ]
     },
     "execution_count": 6,
     "metadata": {},
     "output_type": "execute_result"
    }
   ],
   "source": [
    "import glob\n",
    "import numpy as np\n",
    "files = glob.glob('*')\n",
    "files"
   ]
  },
  {
   "cell_type": "code",
   "execution_count": 7,
   "metadata": {},
   "outputs": [
    {
     "data": {
      "text/plain": [
       "array([0.06078679, 0.04025067, 0.08191153, 0.04607672, 0.02312616])"
      ]
     },
     "execution_count": 7,
     "metadata": {},
     "output_type": "execute_result"
    }
   ],
   "source": [
    "import numpy as np\n",
    "\n",
    "\n",
    "distribution_1 = np.zeros(len(files))\n",
    "\n",
    "import pandas as pd\n",
    "\n",
    "for i, file in enumerate(files):\n",
    "    data = pd.read_table(file, sep = ' ')\n",
    "    cross_section = data.loc[state_number]['CROSS_SECTION']\n",
    "    distribution_1[i] = cross_section\n",
    "\n",
    "distribution_1"
   ]
  },
  {
   "cell_type": "code",
   "execution_count": 8,
   "metadata": {},
   "outputs": [
    {
     "name": "stdout",
     "output_type": "stream",
     "text": [
      "/home/ben/Documents/analysis_code/spectrum_analysis/116Cd_p,d_bite_3/output\n"
     ]
    }
   ],
   "source": [
    "cd /home/ben/Documents/analysis_code/spectrum_analysis/116Cd_p,d_bite_3/output\n"
   ]
  },
  {
   "cell_type": "code",
   "execution_count": 9,
   "metadata": {},
   "outputs": [
    {
     "name": "stdout",
     "output_type": "stream",
     "text": [
      "116Cd_p,d_115Cd_17degrees_bite_3_peaks.txt\r\n",
      "116Cd_p,d_115Cd_26degrees_bite_3_peaks.txt\r\n",
      "116Cd_p,d_115Cd_31degrees_bite_3_peaks.txt\r\n",
      "116Cd_p,d_115Cd_39degrees_bite_3_peaks.txt\r\n",
      "116Cd_p,d_115Cd_8degrees_bite_3_peaks.txt\r\n"
     ]
    }
   ],
   "source": [
    "ls"
   ]
  },
  {
   "cell_type": "code",
   "execution_count": 10,
   "metadata": {},
   "outputs": [
    {
     "data": {
      "text/plain": [
       "['116Cd_p,d_115Cd_8degrees_bite_3_peaks.txt',\n",
       " '116Cd_p,d_115Cd_17degrees_bite_3_peaks.txt',\n",
       " '116Cd_p,d_115Cd_26degrees_bite_3_peaks.txt',\n",
       " '116Cd_p,d_115Cd_31degrees_bite_3_peaks.txt',\n",
       " '116Cd_p,d_115Cd_39degrees_bite_3_peaks.txt']"
      ]
     },
     "execution_count": 10,
     "metadata": {},
     "output_type": "execute_result"
    }
   ],
   "source": [
    "files2 = glob.glob('*')\n",
    "files2"
   ]
  },
  {
   "cell_type": "code",
   "execution_count": 11,
   "metadata": {},
   "outputs": [
    {
     "data": {
      "text/plain": [
       "array([0.0576236 , 0.07590154, 0.06706574, 0.03952061, 0.0315849 ])"
      ]
     },
     "execution_count": 11,
     "metadata": {},
     "output_type": "execute_result"
    }
   ],
   "source": [
    "\n",
    "distribution_2 = np.zeros(len(files2))\n",
    "\n",
    "for i, file in enumerate(files2):\n",
    "    data = pd.read_table(file, sep = ' ')\n",
    "    cross_section = data.loc[state_number2]['CROSS_SECTION']\n",
    "    distribution_2[i] = cross_section\n",
    "\n",
    "distribution_2"
   ]
  },
  {
   "cell_type": "code",
   "execution_count": 12,
   "metadata": {},
   "outputs": [
    {
     "name": "stdout",
     "output_type": "stream",
     "text": [
      "[1.05489392 0.53030109 1.22136166 1.16589078 0.73219026]\n"
     ]
    }
   ],
   "source": [
    "print(distribution_1/distribution_2)"
   ]
  },
  {
   "cell_type": "code",
   "execution_count": 13,
   "metadata": {},
   "outputs": [
    {
     "data": {
      "text/plain": [
       "'/home/ben/Documents/analysis_code/spectrum_analysis/116Cd_p,d_bite_3/output'"
      ]
     },
     "execution_count": 13,
     "metadata": {},
     "output_type": "execute_result"
    }
   ],
   "source": [
    "pwd"
   ]
  },
  {
   "cell_type": "code",
   "execution_count": 14,
   "metadata": {},
   "outputs": [
    {
     "name": "stdout",
     "output_type": "stream",
     "text": [
      "[0.06078679 0.04025067 0.08191153 0.04607672 0.02312616]\n",
      "[0.0576236  0.07590154 0.06706574 0.03952061 0.0315849 ]\n"
     ]
    },
    {
     "data": {
      "text/plain": [
       "[<matplotlib.lines.Line2D at 0x7f3b48665e10>]"
      ]
     },
     "execution_count": 14,
     "metadata": {},
     "output_type": "execute_result"
    },
    {
     "data": {
      "image/png": "[encoded data removed]",
      "text/plain": [
       "<Figure size 432x288 with 1 Axes>"
      ]
     },
     "metadata": {},
     "output_type": "display_data"
    }
   ],
   "source": [
    "import matplotlib.pyplot as plt\n",
    "%matplotlib inline\n",
    "print(distribution_1)\n",
    "print(distribution_2)\n",
    "plt.plot([8,17,26,31,39],distribution_1/distribution_2)"
   ]
  },
  {
   "cell_type": "code",
   "execution_count": 15,
   "metadata": {},
   "outputs": [
    {
     "data": {
      "text/plain": [
       "0.940927540660151"
      ]
     },
     "execution_count": 15,
     "metadata": {},
     "output_type": "execute_result"
    }
   ],
   "source": [
    "np.mean(distribution_1/distribution_2)"
   ]
  },
  {
   "cell_type": "code",
   "execution_count": null,
   "metadata": {},
   "outputs": [],
   "source": []
  }
 ],
 "metadata": {
  "kernelspec": {
   "display_name": "Python 3",
   "language": "python",
   "name": "python3"
  },
  "language_info": {
   "codemirror_mode": {
    "name": "ipython",
    "version": 3
   },
   "file_extension": ".py",
   "mimetype": "text/x-python",
   "name": "python",
   "nbconvert_exporter": "python",
   "pygments_lexer": "ipython3",
   "version": "3.6.7"
  }
 },
 "nbformat": 4,
 "nbformat_minor": 2
}
