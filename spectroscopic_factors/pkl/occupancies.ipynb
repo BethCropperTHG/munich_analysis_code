{
 "cells": [
  {
   "cell_type": "code",
   "execution_count": 1,
   "metadata": {},
   "outputs": [
    {
     "name": "stdout",
     "output_type": "stream",
     "text": [
      "116Cd_d,p_117Cd_bite_1_spec_factors.pkl\r\n",
      "116Cd_d,p_117Cd_bite_2_spec_factors.pkl\r\n",
      "116Cd_d,p_117Cd_bite_3_spec_factors.pkl\r\n",
      "116Cd_d,t_115Cd_bite_1_spec_factors.pkl\r\n",
      "116Cd_h,a_115Cd_bite_1_spec_factors.pkl\r\n",
      "116Cd_p,d_115Cd_bite_1_spec_factors.pkl\r\n",
      "116Cd_p,d_115Cd_bite_2_spec_factors.pkl\r\n",
      "116Cd_p,d_115Cd_bite_3_spec_factors.pkl\r\n",
      "notebook.tex\r\n",
      "occupancies.ipynb\r\n",
      "Untitled.ipynb\r\n"
     ]
    }
   ],
   "source": [
    "ls"
   ]
  },
  {
   "cell_type": "code",
   "execution_count": 2,
   "metadata": {},
   "outputs": [
    {
     "data": {
      "text/plain": [
       "['116Cd_d,p_117Cd_bite_1_spec_factors.pkl',\n",
       " '116Cd_d,p_117Cd_bite_2_spec_factors.pkl',\n",
       " '116Cd_d,p_117Cd_bite_3_spec_factors.pkl']"
      ]
     },
     "execution_count": 2,
     "metadata": {},
     "output_type": "execute_result"
    }
   ],
   "source": [
    "import pandas as pd\n",
    "import numpy as np\n",
    "import glob\n",
    "files = glob.glob('116Cd_d,p*')\n",
    "files"
   ]
  },
  {
   "cell_type": "code",
   "execution_count": 3,
   "metadata": {},
   "outputs": [
    {
     "name": "stdout",
     "output_type": "stream",
     "text": [
      "[   0. 1222. 2183.]\n",
      "[ 107.85855585 1237.         2205.        ]\n",
      "[ 134.51639627 1257.         2232.        ]\n",
      "[ 134.51639627 1279.         2470.5667581 ]\n",
      "[ 292.23727013 1318.96957368 2482.58472949]\n",
      "[ 411.0908011  1343.         2497.91397617]\n",
      "[ 426.2        1355.         2569.30353722]\n",
      "[ 442.6        1406.35812984 2593.83132541]\n",
      "[ 498.09215467 1423.02633458 2609.22757224]\n",
      "[ 522.1        1440.48778147 2621.78345166]\n",
      "[ 627.29063985 1476.         2635.08961641]\n",
      "[ 639.48063128 1484.32629572 2649.07558755]\n",
      "[ 665.2        1648.62382511 2664.60130282]\n",
      "[ 690.8        1672.43573125 2688.33946808]\n",
      "[ 699.99189646 1682.51201348 2702.2653349 ]\n",
      "[ 728.20495558 1691.8712204  2715.64080234]\n",
      "[ 779.07887071 1743.64805937 2737.36376258]\n",
      "[ 820.1        1763.40435712 2749.88008553]\n",
      "[ 862.55592056 1791.79857486 2767.78117641]\n",
      "[ 997.35475725 1813.10214966 2779.2       ]\n",
      "[1011.99570125 1844.48746025 2813.50125923]\n",
      "[1073.2        1880.88405091 2828.35972191]\n",
      "[1082.46621077 1943.         2853.11473251]\n",
      "[1105.24692092 2005.50148065 2875.30350971]\n",
      "[1132.98983045 2023.7927676  2884.17921171]\n",
      "[1221.15082077 2042.28183138 2899.5296751 ]\n",
      "[1257.05622709 2069.90234959 2917.63434291]\n",
      "[1278.32541678 2131.         2928.52498091]\n",
      "[1315.93448102 2140.01890515 2949.31712204]\n",
      "[1342.27796218 1980.12203752 2970.66419665]\n",
      "[1355.9        2183.         2986.28396552]\n",
      "[1475.08912795 2201.91543968 2997.71865709]\n",
      "[1485.51442386 2207.72028817 3047.4       ]\n",
      "[          nan 2232.         3064.81392647]\n",
      "[          nan 2273.45919269 3078.11291441]\n",
      "[          nan 2299.71634674 3119.41886244]\n",
      "[          nan 2317.08144264 3140.60165968]\n",
      "[          nan 2349.06475294 3154.52578438]\n",
      "[          nan 2371.12264565 3171.65540541]\n",
      "[          nan 2394.98062509 3181.21007563]\n",
      "[          nan 2411.59550074 3212.0720264 ]\n",
      "[          nan 2418.39696256 3231.27335587]\n",
      "[          nan 2432.63924928 3249.66127716]\n",
      "[          nan 2454.96494804 3264.90656381]\n",
      "[          nan 2462.70231833 3286.17067713]\n",
      "[          nan 2477.7499492  3310.53925722]\n",
      "[          nan 2492.96001419 3327.87460589]\n",
      "[          nan 2513.27159671 3350.20085762]\n",
      "[          nan 2522.29824958 3368.24959105]\n",
      "[          nan 2532.92686846 3383.85849793]\n",
      "[          nan 2543.98832567 3401.38246111]\n",
      "[          nan 2553.80186168 3420.40584108]\n",
      "[          nan           nan 3441.04083863]\n",
      "[          nan           nan 3466.32188649]\n",
      "[          nan           nan 3474.20198551]\n",
      "[         nan          nan 3493.1413637]\n",
      "[          nan           nan 3510.66110166]\n",
      "[          nan           nan 3525.44353548]\n",
      "[          nan           nan 3536.81897896]\n",
      "[         nan          nan 3553.0590864]\n",
      "[          nan           nan 3572.94571882]\n",
      "[          nan           nan 3581.27624195]\n"
     ]
    }
   ],
   "source": [
    "df = None\n",
    "files = np.sort(glob.glob('116Cd_d,p*'))\n",
    "#print(files)\n",
    "\n",
    "df1 = pd.read_pickle(files[0])[['ENERGY']]\n",
    "\n",
    "df2 = pd.read_pickle(files[1])[['ENERGY']]\n",
    "df3 = pd.read_pickle(files[2])[['ENERGY']]\n",
    "\n",
    "frames = [df1,df2,df3]\n",
    "df = pd.concat(frames, axis = 1, sort = False)\n",
    "#df = df.rename(index=str, columns={\"ENERGY\": \"EB1\"})\n",
    "#df\n",
    "\n",
    "for row in df.iterrows():\n",
    "    print(np.array(row[1]))"
   ]
  },
  {
   "cell_type": "code",
   "execution_count": 4,
   "metadata": {},
   "outputs": [],
   "source": [
    "df1 = pd.read_pickle(files[0])\n",
    "df2 = pd.read_pickle(files[1])\n",
    "df3 = pd.read_pickle(files[2])\n",
    "\n",
    "df2 = df2.drop([0,2,3,4,5,6,10,11])\n",
    "df3 = df3.drop([0,1,2,3,4])\n",
    "\n",
    "dp = [df1, df2, df3]\n",
    "\n"
   ]
  },
  {
   "cell_type": "code",
   "execution_count": 5,
   "metadata": {},
   "outputs": [],
   "source": [
    "\n",
    "vacancy0, svacancy0 = 0,0\n",
    "vacancy1, svacancy1 = 0,0\n",
    "vacancy2, svacancy2 = 0,0\n",
    "vacancy3, svacancy3 = 0,0\n",
    "vacancy4, svacancy4 = 0,0\n",
    "vacancy5, svacancy5 = 0,0\n",
    "\n",
    "\n",
    "for f in dp:\n",
    "    \n",
    "    vacancy0 += np.sum(f.loc[f['L'] == 0, ['SPECTROSCOPIC_FACTOR']])\n",
    "    vacancy2 += np.sum(f.loc[f['L'] == 2, ['SPECTROSCOPIC_FACTOR']])\n",
    "    vacancy4 += np.sum(f.loc[f['L'] == 4, ['SPECTROSCOPIC_FACTOR']])\n",
    "    vacancy5 += np.sum(f.loc[f['L'] == 5, ['SPECTROSCOPIC_FACTOR']])\n",
    "    #print(vacancy0)\n",
    "    \n",
    "    f['ESQUARE'] = f['ERROR']**2\n",
    "    \n",
    "    svacancy0 += np.sqrt(np.sum(f.loc[f['L'] == 0, ['ESQUARE']]))\n",
    "    svacancy2 += np.sqrt(np.sum(f.loc[f['L'] == 2, ['ESQUARE']]))\n",
    "    svacancy4 += np.sqrt(np.sum(f.loc[f['L'] == 4, ['ESQUARE']]))\n",
    "    svacancy5 += np.sqrt(np.sum(f.loc[f['L'] == 5, ['ESQUARE']]))"
   ]
  },
  {
   "cell_type": "code",
   "execution_count": 6,
   "metadata": {},
   "outputs": [
    {
     "name": "stdout",
     "output_type": "stream",
     "text": [
      "1.3058787109506043 +- 0.04197969612102154\n"
     ]
    }
   ],
   "source": [
    "j = 0.5\n",
    "vacancy0 = (2 * j + 1) * vacancy0\n",
    "svacancy0 = (2 * j + 1) * svacancy0\n",
    "print(str(vacancy0[0]) + ' +- ' + str(svacancy0[0]))"
   ]
  },
  {
   "cell_type": "code",
   "execution_count": null,
   "metadata": {},
   "outputs": [],
   "source": []
  },
  {
   "cell_type": "code",
   "execution_count": 7,
   "metadata": {},
   "outputs": [
    {
     "name": "stdout",
     "output_type": "stream",
     "text": [
      "0.05589603013884827 +- 0.00793977700835913\n"
     ]
    }
   ],
   "source": [
    "j = 7/2\n",
    "vacancy4 = (2 * j  + 1) * vacancy4\n",
    "svacancy4 = (2 * j + 1) * svacancy4\n",
    "print(str(vacancy4[0]) + ' +- ' + str(svacancy4[0]))"
   ]
  },
  {
   "cell_type": "code",
   "execution_count": 8,
   "metadata": {},
   "outputs": [
    {
     "name": "stdout",
     "output_type": "stream",
     "text": [
      "5.075024858716542 +- 0.311920055218467\n"
     ]
    }
   ],
   "source": [
    "j = 11/2\n",
    "vacancy5 = (2 * j + 1) * vacancy5\n",
    "svacancy5 = (2 * j + 1) * svacancy5\n",
    "print(str(vacancy5[0]) + ' +- ' + str(svacancy5[0]))"
   ]
  },
  {
   "cell_type": "code",
   "execution_count": 9,
   "metadata": {},
   "outputs": [
    {
     "data": {
      "text/html": [
       "<div>\n",
       "<style scoped>\n",
       "    .dataframe tbody tr th:only-of-type {\n",
       "        vertical-align: middle;\n",
       "    }\n",
       "\n",
       "    .dataframe tbody tr th {\n",
       "        vertical-align: top;\n",
       "    }\n",
       "\n",
       "    .dataframe thead th {\n",
       "        text-align: right;\n",
       "    }\n",
       "</style>\n",
       "<table border=\"1\" class=\"dataframe\">\n",
       "  <thead>\n",
       "    <tr style=\"text-align: right;\">\n",
       "      <th></th>\n",
       "      <th>ENERGY</th>\n",
       "      <th>ENERGY</th>\n",
       "      <th>ENERGY</th>\n",
       "    </tr>\n",
       "  </thead>\n",
       "  <tbody>\n",
       "    <tr>\n",
       "      <th>0</th>\n",
       "      <td>0.000000</td>\n",
       "      <td>1063.900000</td>\n",
       "      <td>1862.870000</td>\n",
       "    </tr>\n",
       "    <tr>\n",
       "      <th>1</th>\n",
       "      <td>181.000000</td>\n",
       "      <td>1085.000000</td>\n",
       "      <td>1875.200000</td>\n",
       "    </tr>\n",
       "    <tr>\n",
       "      <th>2</th>\n",
       "      <td>229.100000</td>\n",
       "      <td>1175.000000</td>\n",
       "      <td>2054.045985</td>\n",
       "    </tr>\n",
       "    <tr>\n",
       "      <th>3</th>\n",
       "      <td>343.679164</td>\n",
       "      <td>1209.564222</td>\n",
       "      <td>2077.425494</td>\n",
       "    </tr>\n",
       "    <tr>\n",
       "      <th>4</th>\n",
       "      <td>360.500000</td>\n",
       "      <td>1209.564222</td>\n",
       "      <td>2095.238466</td>\n",
       "    </tr>\n",
       "    <tr>\n",
       "      <th>5</th>\n",
       "      <td>389.000000</td>\n",
       "      <td>1248.000000</td>\n",
       "      <td>2113.200000</td>\n",
       "    </tr>\n",
       "    <tr>\n",
       "      <th>6</th>\n",
       "      <td>416.064688</td>\n",
       "      <td>1266.460117</td>\n",
       "      <td>2131.014162</td>\n",
       "    </tr>\n",
       "    <tr>\n",
       "      <th>7</th>\n",
       "      <td>472.700000</td>\n",
       "      <td>1292.473980</td>\n",
       "      <td>2131.014162</td>\n",
       "    </tr>\n",
       "    <tr>\n",
       "      <th>8</th>\n",
       "      <td>507.300000</td>\n",
       "      <td>1304.585912</td>\n",
       "      <td>2145.124557</td>\n",
       "    </tr>\n",
       "    <tr>\n",
       "      <th>9</th>\n",
       "      <td>566.068974</td>\n",
       "      <td>1317.300000</td>\n",
       "      <td>2176.865287</td>\n",
       "    </tr>\n",
       "    <tr>\n",
       "      <th>10</th>\n",
       "      <td>607.561258</td>\n",
       "      <td>1339.018419</td>\n",
       "      <td>2196.568275</td>\n",
       "    </tr>\n",
       "    <tr>\n",
       "      <th>11</th>\n",
       "      <td>645.617584</td>\n",
       "      <td>1358.300000</td>\n",
       "      <td>2220.798153</td>\n",
       "    </tr>\n",
       "    <tr>\n",
       "      <th>12</th>\n",
       "      <td>659.955126</td>\n",
       "      <td>1456.533866</td>\n",
       "      <td>2246.353097</td>\n",
       "    </tr>\n",
       "    <tr>\n",
       "      <th>13</th>\n",
       "      <td>698.316751</td>\n",
       "      <td>1471.462544</td>\n",
       "      <td>2306.889949</td>\n",
       "    </tr>\n",
       "    <tr>\n",
       "      <th>14</th>\n",
       "      <td>749.400000</td>\n",
       "      <td>1494.448711</td>\n",
       "      <td>2318.773859</td>\n",
       "    </tr>\n",
       "    <tr>\n",
       "      <th>15</th>\n",
       "      <td>776.600000</td>\n",
       "      <td>1515.596557</td>\n",
       "      <td>2332.404602</td>\n",
       "    </tr>\n",
       "    <tr>\n",
       "      <th>16</th>\n",
       "      <td>809.749016</td>\n",
       "      <td>1515.596557</td>\n",
       "      <td>2342.559622</td>\n",
       "    </tr>\n",
       "    <tr>\n",
       "      <th>17</th>\n",
       "      <td>864.244334</td>\n",
       "      <td>1538.408633</td>\n",
       "      <td>2352.409431</td>\n",
       "    </tr>\n",
       "    <tr>\n",
       "      <th>18</th>\n",
       "      <td>878.573382</td>\n",
       "      <td>1574.000000</td>\n",
       "      <td>2364.788262</td>\n",
       "    </tr>\n",
       "    <tr>\n",
       "      <th>19</th>\n",
       "      <td>901.503470</td>\n",
       "      <td>1597.000000</td>\n",
       "      <td>2374.896726</td>\n",
       "    </tr>\n",
       "    <tr>\n",
       "      <th>20</th>\n",
       "      <td>927.739783</td>\n",
       "      <td>1613.149085</td>\n",
       "      <td>2384.426696</td>\n",
       "    </tr>\n",
       "    <tr>\n",
       "      <th>21</th>\n",
       "      <td>942.557448</td>\n",
       "      <td>1625.344245</td>\n",
       "      <td>2397.177156</td>\n",
       "    </tr>\n",
       "    <tr>\n",
       "      <th>22</th>\n",
       "      <td>962.315664</td>\n",
       "      <td>1649.346716</td>\n",
       "      <td>NaN</td>\n",
       "    </tr>\n",
       "    <tr>\n",
       "      <th>23</th>\n",
       "      <td>1026.569437</td>\n",
       "      <td>1732.134407</td>\n",
       "      <td>NaN</td>\n",
       "    </tr>\n",
       "    <tr>\n",
       "      <th>24</th>\n",
       "      <td>1039.139722</td>\n",
       "      <td>1747.835620</td>\n",
       "      <td>NaN</td>\n",
       "    </tr>\n",
       "    <tr>\n",
       "      <th>25</th>\n",
       "      <td>1063.782351</td>\n",
       "      <td>1772.725731</td>\n",
       "      <td>NaN</td>\n",
       "    </tr>\n",
       "    <tr>\n",
       "      <th>26</th>\n",
       "      <td>1092.100000</td>\n",
       "      <td>1785.161835</td>\n",
       "      <td>NaN</td>\n",
       "    </tr>\n",
       "    <tr>\n",
       "      <th>27</th>\n",
       "      <td>NaN</td>\n",
       "      <td>1795.477475</td>\n",
       "      <td>NaN</td>\n",
       "    </tr>\n",
       "    <tr>\n",
       "      <th>28</th>\n",
       "      <td>NaN</td>\n",
       "      <td>1805.922029</td>\n",
       "      <td>NaN</td>\n",
       "    </tr>\n",
       "    <tr>\n",
       "      <th>29</th>\n",
       "      <td>NaN</td>\n",
       "      <td>1818.000000</td>\n",
       "      <td>NaN</td>\n",
       "    </tr>\n",
       "    <tr>\n",
       "      <th>30</th>\n",
       "      <td>NaN</td>\n",
       "      <td>1840.000000</td>\n",
       "      <td>NaN</td>\n",
       "    </tr>\n",
       "    <tr>\n",
       "      <th>31</th>\n",
       "      <td>NaN</td>\n",
       "      <td>1840.000000</td>\n",
       "      <td>NaN</td>\n",
       "    </tr>\n",
       "    <tr>\n",
       "      <th>32</th>\n",
       "      <td>NaN</td>\n",
       "      <td>1841.298544</td>\n",
       "      <td>NaN</td>\n",
       "    </tr>\n",
       "    <tr>\n",
       "      <th>33</th>\n",
       "      <td>NaN</td>\n",
       "      <td>1841.298544</td>\n",
       "      <td>NaN</td>\n",
       "    </tr>\n",
       "    <tr>\n",
       "      <th>34</th>\n",
       "      <td>NaN</td>\n",
       "      <td>1851.005074</td>\n",
       "      <td>NaN</td>\n",
       "    </tr>\n",
       "    <tr>\n",
       "      <th>35</th>\n",
       "      <td>NaN</td>\n",
       "      <td>1865.530753</td>\n",
       "      <td>NaN</td>\n",
       "    </tr>\n",
       "    <tr>\n",
       "      <th>36</th>\n",
       "      <td>NaN</td>\n",
       "      <td>1876.000000</td>\n",
       "      <td>NaN</td>\n",
       "    </tr>\n",
       "    <tr>\n",
       "      <th>37</th>\n",
       "      <td>NaN</td>\n",
       "      <td>1885.117066</td>\n",
       "      <td>NaN</td>\n",
       "    </tr>\n",
       "    <tr>\n",
       "      <th>38</th>\n",
       "      <td>NaN</td>\n",
       "      <td>1885.117066</td>\n",
       "      <td>NaN</td>\n",
       "    </tr>\n",
       "    <tr>\n",
       "      <th>39</th>\n",
       "      <td>NaN</td>\n",
       "      <td>1896.361077</td>\n",
       "      <td>NaN</td>\n",
       "    </tr>\n",
       "    <tr>\n",
       "      <th>40</th>\n",
       "      <td>NaN</td>\n",
       "      <td>1911.792282</td>\n",
       "      <td>NaN</td>\n",
       "    </tr>\n",
       "    <tr>\n",
       "      <th>41</th>\n",
       "      <td>NaN</td>\n",
       "      <td>1924.675205</td>\n",
       "      <td>NaN</td>\n",
       "    </tr>\n",
       "    <tr>\n",
       "      <th>42</th>\n",
       "      <td>NaN</td>\n",
       "      <td>1933.550109</td>\n",
       "      <td>NaN</td>\n",
       "    </tr>\n",
       "    <tr>\n",
       "      <th>43</th>\n",
       "      <td>NaN</td>\n",
       "      <td>1944.234562</td>\n",
       "      <td>NaN</td>\n",
       "    </tr>\n",
       "    <tr>\n",
       "      <th>44</th>\n",
       "      <td>NaN</td>\n",
       "      <td>1959.440633</td>\n",
       "      <td>NaN</td>\n",
       "    </tr>\n",
       "    <tr>\n",
       "      <th>45</th>\n",
       "      <td>NaN</td>\n",
       "      <td>1970.376107</td>\n",
       "      <td>NaN</td>\n",
       "    </tr>\n",
       "    <tr>\n",
       "      <th>46</th>\n",
       "      <td>NaN</td>\n",
       "      <td>1986.766403</td>\n",
       "      <td>NaN</td>\n",
       "    </tr>\n",
       "    <tr>\n",
       "      <th>47</th>\n",
       "      <td>NaN</td>\n",
       "      <td>1995.028143</td>\n",
       "      <td>NaN</td>\n",
       "    </tr>\n",
       "    <tr>\n",
       "      <th>48</th>\n",
       "      <td>NaN</td>\n",
       "      <td>2014.856994</td>\n",
       "      <td>NaN</td>\n",
       "    </tr>\n",
       "    <tr>\n",
       "      <th>49</th>\n",
       "      <td>NaN</td>\n",
       "      <td>2048.833064</td>\n",
       "      <td>NaN</td>\n",
       "    </tr>\n",
       "    <tr>\n",
       "      <th>50</th>\n",
       "      <td>NaN</td>\n",
       "      <td>2073.838282</td>\n",
       "      <td>NaN</td>\n",
       "    </tr>\n",
       "    <tr>\n",
       "      <th>51</th>\n",
       "      <td>NaN</td>\n",
       "      <td>2092.576633</td>\n",
       "      <td>NaN</td>\n",
       "    </tr>\n",
       "    <tr>\n",
       "      <th>52</th>\n",
       "      <td>NaN</td>\n",
       "      <td>2113.240000</td>\n",
       "      <td>NaN</td>\n",
       "    </tr>\n",
       "    <tr>\n",
       "      <th>53</th>\n",
       "      <td>NaN</td>\n",
       "      <td>2113.240000</td>\n",
       "      <td>NaN</td>\n",
       "    </tr>\n",
       "    <tr>\n",
       "      <th>54</th>\n",
       "      <td>NaN</td>\n",
       "      <td>2133.721397</td>\n",
       "      <td>NaN</td>\n",
       "    </tr>\n",
       "    <tr>\n",
       "      <th>55</th>\n",
       "      <td>NaN</td>\n",
       "      <td>2133.721397</td>\n",
       "      <td>NaN</td>\n",
       "    </tr>\n",
       "    <tr>\n",
       "      <th>56</th>\n",
       "      <td>NaN</td>\n",
       "      <td>2148.119842</td>\n",
       "      <td>NaN</td>\n",
       "    </tr>\n",
       "  </tbody>\n",
       "</table>\n",
       "</div>"
      ],
      "text/plain": [
       "         ENERGY       ENERGY       ENERGY\n",
       "0      0.000000  1063.900000  1862.870000\n",
       "1    181.000000  1085.000000  1875.200000\n",
       "2    229.100000  1175.000000  2054.045985\n",
       "3    343.679164  1209.564222  2077.425494\n",
       "4    360.500000  1209.564222  2095.238466\n",
       "5    389.000000  1248.000000  2113.200000\n",
       "6    416.064688  1266.460117  2131.014162\n",
       "7    472.700000  1292.473980  2131.014162\n",
       "8    507.300000  1304.585912  2145.124557\n",
       "9    566.068974  1317.300000  2176.865287\n",
       "10   607.561258  1339.018419  2196.568275\n",
       "11   645.617584  1358.300000  2220.798153\n",
       "12   659.955126  1456.533866  2246.353097\n",
       "13   698.316751  1471.462544  2306.889949\n",
       "14   749.400000  1494.448711  2318.773859\n",
       "15   776.600000  1515.596557  2332.404602\n",
       "16   809.749016  1515.596557  2342.559622\n",
       "17   864.244334  1538.408633  2352.409431\n",
       "18   878.573382  1574.000000  2364.788262\n",
       "19   901.503470  1597.000000  2374.896726\n",
       "20   927.739783  1613.149085  2384.426696\n",
       "21   942.557448  1625.344245  2397.177156\n",
       "22   962.315664  1649.346716          NaN\n",
       "23  1026.569437  1732.134407          NaN\n",
       "24  1039.139722  1747.835620          NaN\n",
       "25  1063.782351  1772.725731          NaN\n",
       "26  1092.100000  1785.161835          NaN\n",
       "27          NaN  1795.477475          NaN\n",
       "28          NaN  1805.922029          NaN\n",
       "29          NaN  1818.000000          NaN\n",
       "30          NaN  1840.000000          NaN\n",
       "31          NaN  1840.000000          NaN\n",
       "32          NaN  1841.298544          NaN\n",
       "33          NaN  1841.298544          NaN\n",
       "34          NaN  1851.005074          NaN\n",
       "35          NaN  1865.530753          NaN\n",
       "36          NaN  1876.000000          NaN\n",
       "37          NaN  1885.117066          NaN\n",
       "38          NaN  1885.117066          NaN\n",
       "39          NaN  1896.361077          NaN\n",
       "40          NaN  1911.792282          NaN\n",
       "41          NaN  1924.675205          NaN\n",
       "42          NaN  1933.550109          NaN\n",
       "43          NaN  1944.234562          NaN\n",
       "44          NaN  1959.440633          NaN\n",
       "45          NaN  1970.376107          NaN\n",
       "46          NaN  1986.766403          NaN\n",
       "47          NaN  1995.028143          NaN\n",
       "48          NaN  2014.856994          NaN\n",
       "49          NaN  2048.833064          NaN\n",
       "50          NaN  2073.838282          NaN\n",
       "51          NaN  2092.576633          NaN\n",
       "52          NaN  2113.240000          NaN\n",
       "53          NaN  2113.240000          NaN\n",
       "54          NaN  2133.721397          NaN\n",
       "55          NaN  2133.721397          NaN\n",
       "56          NaN  2148.119842          NaN"
      ]
     },
     "execution_count": 9,
     "metadata": {},
     "output_type": "execute_result"
    }
   ],
   "source": [
    "df = None\n",
    "files = np.sort(glob.glob('116Cd_p,d*'))\n",
    "\n",
    "\n",
    "df1 = pd.read_pickle(files[0])[['ENERGY']]\n",
    "\n",
    "df2 = pd.read_pickle(files[1])[['ENERGY']]\n",
    "df3 = pd.read_pickle(files[2])[['ENERGY']]\n",
    "\n",
    "frames = [df1,df2,df3]\n",
    "df = pd.concat(frames, axis = 1, sort = False)\n",
    "#df = df.rename(index=str, columns={\"ENERGY\": \"EB1\"})\n",
    "df"
   ]
  },
  {
   "cell_type": "code",
   "execution_count": 10,
   "metadata": {},
   "outputs": [],
   "source": [
    "df1 = pd.read_pickle(files[0])\n",
    "df2 = pd.read_pickle(files[1])\n",
    "df3 = pd.read_pickle(files[2])\n",
    "\n",
    "df2 = df2.drop([0,1])\n",
    "df3 = df3.drop([0,1,2,3,4,5,6,7,8,9])\n",
    "\n",
    "p_d = [df1, df2, df3]"
   ]
  },
  {
   "cell_type": "code",
   "execution_count": 11,
   "metadata": {},
   "outputs": [],
   "source": [
    "occupancy0, soccupancy0 = 0,0\n",
    "occupancy1, soccupancy1 = 0,0\n",
    "occupancy2, soccupancy2 = 0,0\n",
    "occupancy3, soccupancy3 = 0,0\n",
    "occupancy4, soccupancy4 = 0,0\n",
    "occupancy5, soccupancy5 = 0,0\n",
    "\n",
    "\n",
    "for f in p_d:\n",
    "    \n",
    "    occupancy0 += np.sum(f.loc[f['L'] == 0, ['SPECTROSCOPIC_FACTOR']])\n",
    "    occupancy2 += np.sum(f.loc[f['L'] == 2, ['SPECTROSCOPIC_FACTOR']])\n",
    "    occupancy4 += np.sum(f.loc[f['L'] == 4, ['SPECTROSCOPIC_FACTOR']])\n",
    "    occupancy5 += np.sum(f.loc[f['L'] == 5, ['SPECTROSCOPIC_FACTOR']])\n",
    "    \n",
    "    f['ESQUARE'] = f['ERROR']**2\n",
    "    \n",
    "    soccupancy0 += np.sqrt(np.sum(f.loc[f['L'] == 0, ['ESQUARE']]))\n",
    "    soccupancy2 += np.sqrt(np.sum(f.loc[f['L'] == 2, ['ESQUARE']]))\n",
    "    soccupancy4 += np.sqrt(np.sum(f.loc[f['L'] == 4, ['ESQUARE']]))\n",
    "    soccupancy5 += np.sqrt(np.sum(f.loc[f['L'] == 5, ['ESQUARE']]))"
   ]
  },
  {
   "cell_type": "code",
   "execution_count": 12,
   "metadata": {},
   "outputs": [
    {
     "name": "stdout",
     "output_type": "stream",
     "text": [
      "0.7791240403865303 +- 0.005609086649494438\n"
     ]
    }
   ],
   "source": [
    "print(str(occupancy0[0]) + ' +- ' + str(soccupancy0[0]))"
   ]
  },
  {
   "cell_type": "code",
   "execution_count": 13,
   "metadata": {},
   "outputs": [
    {
     "name": "stdout",
     "output_type": "stream",
     "text": [
      "2.728417239543084 +- 0.044663167910917304\n"
     ]
    }
   ],
   "source": [
    "print(str(occupancy4[0]) + ' +- ' + str(soccupancy4[0]))"
   ]
  },
  {
   "cell_type": "code",
   "execution_count": 14,
   "metadata": {},
   "outputs": [
    {
     "name": "stdout",
     "output_type": "stream",
     "text": [
      "5.123232026999504 +- 0.08132772202543714\n"
     ]
    }
   ],
   "source": [
    "print(str(occupancy5[0]) + ' +- ' + str(soccupancy5[0]))"
   ]
  },
  {
   "cell_type": "code",
   "execution_count": null,
   "metadata": {},
   "outputs": [],
   "source": []
  },
  {
   "cell_type": "code",
   "execution_count": 15,
   "metadata": {},
   "outputs": [
    {
     "name": "stdout",
     "output_type": "stream",
     "text": [
      "SPECTROSCOPIC_FACTOR    0.779124\n",
      "dtype: float64 SPECTROSCOPIC_FACTOR    1.305879\n",
      "dtype: float64\n",
      "1.0425013756685673 +- 0.021176382714328524\n"
     ]
    }
   ],
   "source": [
    "print(occupancy0, vacancy0)\n",
    "N0 = ((occupancy0 + vacancy0) / (1 + 1))[0]\n",
    "sN0 = ((np.sqrt(soccupancy0**2 + svacancy0**2) / (1+1)))[0]\n",
    "print(str(N0) + ' +- ' + str(sN0))"
   ]
  },
  {
   "cell_type": "code",
   "execution_count": 16,
   "metadata": {},
   "outputs": [
    {
     "name": "stdout",
     "output_type": "stream",
     "text": [
      "2.728417239543084 0.05589603013884827\n",
      "0.34803915871024155 +- 0.005670425781496237\n"
     ]
    }
   ],
   "source": [
    "print(occupancy4[0], vacancy4[0])\n",
    "N4 = ((occupancy4 + vacancy4) / (7 + 1))[0]\n",
    "sN4 = ((np.sqrt(soccupancy4**2 + svacancy4**2) / (7+1)))[0]\n",
    "print(str(N4) + ' +- ' + str(sN4))"
   ]
  },
  {
   "cell_type": "code",
   "execution_count": 17,
   "metadata": {},
   "outputs": [
    {
     "name": "stdout",
     "output_type": "stream",
     "text": [
      "5.123232026999504 5.075024858716542\n",
      "0.8498547404763371 +- 0.026862344464331566\n"
     ]
    }
   ],
   "source": [
    "print(occupancy5[0], vacancy5[0])\n",
    "N5 = ((occupancy5 + vacancy5) / (11 + 1))[0]\n",
    "sN5 = ((np.sqrt(soccupancy5**2 + svacancy5**2) / (11+1)))[0]\n",
    "print(str(N5) + ' +- ' + str(sN5))"
   ]
  },
  {
   "cell_type": "code",
   "execution_count": 18,
   "metadata": {},
   "outputs": [
    {
     "name": "stdout",
     "output_type": "stream",
     "text": [
      "6.028362004697381 +- 0.19043180457434813\n"
     ]
    }
   ],
   "source": [
    "occ5 = occupancy5/N5\n",
    "socc5 = ((occupancy5[0] * vacancy5[0]) / ((occupancy5[0] + vacancy5[0])*N5)) * np.sqrt((soccupancy5[0]/occupancy5[0])**2 + (svacancy5[0]/vacancy5[0])**2)\n",
    "print(str(occ5[0]) + ' +- ' + str(socc5))"
   ]
  },
  {
   "cell_type": "code",
   "execution_count": 19,
   "metadata": {},
   "outputs": [
    {
     "name": "stdout",
     "output_type": "stream",
     "text": [
      "7.839397295562985 +- 0.02250286320927149\n"
     ]
    }
   ],
   "source": [
    "occ4 = occupancy4/N4\n",
    "socc4 = ((occupancy4[0] * vacancy4[0]) / ((occupancy4[0] + vacancy4[0])*N4)) * np.sqrt((soccupancy4[0]/occupancy4[0])**2 + (svacancy4[0]/vacancy4[0])**2)\n",
    "print(str(occ4[0]) + ' +- ' + str(socc4))"
   ]
  },
  {
   "cell_type": "code",
   "execution_count": 20,
   "metadata": {},
   "outputs": [
    {
     "name": "stdout",
     "output_type": "stream",
     "text": [
      "0.7473602036130357 +- 0.015420162326350226\n"
     ]
    }
   ],
   "source": [
    "occ0 = occupancy0/N0\n",
    "socc0 = ((occupancy0[0] * vacancy0[0]) / ((occupancy0[0] + vacancy0[0])*N0)) * np.sqrt((soccupancy0[0]/occupancy0[0])**2 + (svacancy0[0]/vacancy0[0])**2)\n",
    "print(str(occ0[0]) + ' +- ' + str(socc0))"
   ]
  },
  {
   "cell_type": "markdown",
   "metadata": {},
   "source": [
    "l = 2 now"
   ]
  },
  {
   "cell_type": "code",
   "execution_count": 21,
   "metadata": {},
   "outputs": [
    {
     "name": "stdout",
     "output_type": "stream",
     "text": [
      "5.239991833742328 0.027989350133891755 0.6956830938594616 0.0058398016138457\n"
     ]
    }
   ],
   "source": [
    "print(occupancy2[0], soccupancy2[0], vacancy2[0], svacancy2[0])"
   ]
  },
  {
   "cell_type": "code",
   "execution_count": 22,
   "metadata": {},
   "outputs": [
    {
     "name": "stdout",
     "output_type": "stream",
     "text": [
      "1.002840526147522 +- 0.00455702796366294\n"
     ]
    }
   ],
   "source": [
    "N2 = (vacancy2[0] + (occupancy2[0])/(2 * 3/2 + 1))/2\n",
    "sN2 = (np.sqrt(svacancy2[0]**2 + ((soccupancy2[0])/(2 * 3/2 + 1))**2))/2\n",
    "print(str(N2) + ' +- ' + str(sN2))"
   ]
  },
  {
   "cell_type": "code",
   "execution_count": 23,
   "metadata": {},
   "outputs": [
    {
     "name": "stdout",
     "output_type": "stream",
     "text": [
      "5.225149659509776 +- 0.006093262774130948\n"
     ]
    }
   ],
   "source": [
    "occ2 = occupancy2/N2\n",
    "socc2 = ((occupancy2[0] * vacancy2[0]) / ((occupancy2[0] + vacancy2[0])*N2)) * np.sqrt((soccupancy2[0]/occupancy2[0])**2 + (svacancy2[0]/vacancy2[0])**2)\n",
    "print(str(occ2[0]) + ' +- ' + str(socc2))"
   ]
  },
  {
   "cell_type": "code",
   "execution_count": 24,
   "metadata": {},
   "outputs": [
    {
     "data": {
      "text/plain": [
       "SPECTROSCOPIC_FACTOR    19.840269\n",
       "dtype: float64"
      ]
     },
     "execution_count": 24,
     "metadata": {},
     "output_type": "execute_result"
    }
   ],
   "source": [
    "totalocc = occ2 + occ0 + occ4 + occ5\n",
    "totalocc"
   ]
  },
  {
   "cell_type": "code",
   "execution_count": 25,
   "metadata": {},
   "outputs": [
    {
     "data": {
      "text/plain": [
       "-1.8402691633831765"
      ]
     },
     "execution_count": 25,
     "metadata": {},
     "output_type": "execute_result"
    }
   ],
   "source": [
    "#neutron number of 116Cd\n",
    "N = 116 - 48\n",
    "Nfullshell = 50\n",
    "#so total neutron number - the number in full shells - total occ = 0\n",
    "N - Nfullshell - totalocc[0]\n"
   ]
  },
  {
   "cell_type": "code",
   "execution_count": 26,
   "metadata": {},
   "outputs": [],
   "source": [
    "#missing 4 neutrons..."
   ]
  },
  {
   "cell_type": "code",
   "execution_count": 27,
   "metadata": {},
   "outputs": [
    {
     "data": {
      "text/plain": [
       "0.01610641518433915"
      ]
     },
     "execution_count": 27,
     "metadata": {},
     "output_type": "execute_result"
    }
   ],
   "source": [
    "#uncertainty in normalised occupancy for l = 0\n",
    "occupancy0[0]/N0 * np.sqrt((sN0/N0)**2 + (soccupancy0[0]/occupancy0[0])**2)"
   ]
  },
  {
   "cell_type": "code",
   "execution_count": 28,
   "metadata": {},
   "outputs": [
    {
     "data": {
      "text/plain": [
       "SPECTROSCOPIC_FACTOR    12.02749\n",
       "dtype: float64"
      ]
     },
     "execution_count": 28,
     "metadata": {},
     "output_type": "execute_result"
    }
   ],
   "source": [
    "oleft = 18 - occ2 - occ0\n",
    "oleft"
   ]
  },
  {
   "cell_type": "code",
   "execution_count": 29,
   "metadata": {},
   "outputs": [],
   "source": [
    "files2 = glob.glob('116Cd_h,a*')\n",
    "files2\n",
    "f =  pd.read_pickle(files2[0])"
   ]
  },
  {
   "cell_type": "code",
   "execution_count": 30,
   "metadata": {},
   "outputs": [],
   "source": [
    "occupancy4 += np.sum(f.loc[f['L'] == 4, ['SPECTROSCOPIC_FACTOR']])\n",
    "occupancy5 += np.sum(f.loc[f['L'] == 5, ['SPECTROSCOPIC_FACTOR']])\n",
    "\n",
    "f['ESQUARE'] = f['ERROR']**2\n",
    "\n",
    "soccupancy4 += np.sqrt(np.sum(f.loc[f['L'] == 4, ['ESQUARE']]))\n",
    "soccupancy5 += np.sqrt(np.sum(f.loc[f['L'] == 5, ['ESQUARE']]))"
   ]
  },
  {
   "cell_type": "code",
   "execution_count": 31,
   "metadata": {},
   "outputs": [
    {
     "data": {
      "text/plain": [
       "SPECTROSCOPIC_FACTOR    3.716938\n",
       "dtype: float64"
      ]
     },
     "execution_count": 31,
     "metadata": {},
     "output_type": "execute_result"
    }
   ],
   "source": [
    "occupancy4"
   ]
  },
  {
   "cell_type": "code",
   "execution_count": 32,
   "metadata": {},
   "outputs": [
    {
     "data": {
      "text/plain": [
       "SPECTROSCOPIC_FACTOR    7.182034\n",
       "dtype: float64"
      ]
     },
     "execution_count": 32,
     "metadata": {},
     "output_type": "execute_result"
    }
   ],
   "source": [
    "occupancy5"
   ]
  },
  {
   "cell_type": "code",
   "execution_count": 33,
   "metadata": {},
   "outputs": [],
   "source": [
    "N = (occupancy5 + occupancy4)/oleft"
   ]
  },
  {
   "cell_type": "code",
   "execution_count": 34,
   "metadata": {},
   "outputs": [
    {
     "data": {
      "text/plain": [
       "SPECTROSCOPIC_FACTOR    0.906172\n",
       "dtype: float64"
      ]
     },
     "execution_count": 34,
     "metadata": {},
     "output_type": "execute_result"
    }
   ],
   "source": [
    "N"
   ]
  },
  {
   "cell_type": "code",
   "execution_count": 35,
   "metadata": {},
   "outputs": [
    {
     "data": {
      "text/plain": [
       "SPECTROSCOPIC_FACTOR    4.101803\n",
       "dtype: float64"
      ]
     },
     "execution_count": 35,
     "metadata": {},
     "output_type": "execute_result"
    }
   ],
   "source": [
    "O4 = occupancy4/N\n",
    "O4\n"
   ]
  },
  {
   "cell_type": "code",
   "execution_count": 36,
   "metadata": {},
   "outputs": [
    {
     "data": {
      "text/plain": [
       "SPECTROSCOPIC_FACTOR    7.925687\n",
       "dtype: float64"
      ]
     },
     "execution_count": 36,
     "metadata": {},
     "output_type": "execute_result"
    }
   ],
   "source": [
    "O5 = occupancy5/N\n",
    "O5"
   ]
  },
  {
   "cell_type": "code",
   "execution_count": 42,
   "metadata": {},
   "outputs": [
    {
     "data": {
      "text/plain": [
       "0.030596418938726534"
      ]
     },
     "execution_count": 42,
     "metadata": {},
     "output_type": "execute_result"
    }
   ],
   "source": [
    "sN = N[0] * np.sqrt((soccupancy0[0]**2 + soccupancy2[0]**2)/(18-occupancy2[0]-occupancy0[0])**2 + (soccupancy4[0]**2 + soccupancy5[0]**2)/(occupancy4[0] + occupancy5[0])**2)\n",
    "sN"
   ]
  },
  {
   "cell_type": "code",
   "execution_count": 44,
   "metadata": {},
   "outputs": [],
   "source": [
    "one = (soccupancy0[0]**2 + soccupancy2[0]**2)/(18-occupancy0[0]-occupancy2[0])**2\n",
    "two = (soccupancy5[0]/occupancy5[0])**2\n",
    "three = (soccupancy4[0]/occupancy4[0])**2"
   ]
  },
  {
   "cell_type": "code",
   "execution_count": 45,
   "metadata": {},
   "outputs": [
    {
     "data": {
      "text/plain": [
       "SPECTROSCOPIC_FACTOR    0.149946\n",
       "dtype: float64"
      ]
     },
     "execution_count": 45,
     "metadata": {},
     "output_type": "execute_result"
    }
   ],
   "source": [
    "sO4 = O4 * np.sqrt(one + two + three)\n",
    "sO4"
   ]
  },
  {
   "cell_type": "code",
   "execution_count": 46,
   "metadata": {},
   "outputs": [
    {
     "data": {
      "text/plain": [
       "SPECTROSCOPIC_FACTOR    0.289733\n",
       "dtype: float64"
      ]
     },
     "execution_count": 46,
     "metadata": {},
     "output_type": "execute_result"
    }
   ],
   "source": [
    "sO5 = O5 * np.sqrt(one + two + three)\n",
    "sO5"
   ]
  },
  {
   "cell_type": "code",
   "execution_count": 37,
   "metadata": {},
   "outputs": [],
   "source": [
    "#Now assume l = 4 full and try again"
   ]
  },
  {
   "cell_type": "code",
   "execution_count": 38,
   "metadata": {},
   "outputs": [
    {
     "data": {
      "text/plain": [
       "SPECTROSCOPIC_FACTOR    1.783253\n",
       "dtype: float64"
      ]
     },
     "execution_count": 38,
     "metadata": {},
     "output_type": "execute_result"
    }
   ],
   "source": [
    "oleft = 18 - occ2 - occ0 - 8\n",
    "N = occupancy5/oleft\n",
    "N"
   ]
  },
  {
   "cell_type": "code",
   "execution_count": 47,
   "metadata": {},
   "outputs": [],
   "source": [
    "Sn0, sSn0 = 0.81, 0.01\n",
    "Sn2, sSn2 = 5.57, 0.05\n",
    "Sn4, sSn4 = 6.33, 0.05\n",
    "Sn5, sSn5 = 3.39, 0.07"
   ]
  },
  {
   "cell_type": "code",
   "execution_count": 48,
   "metadata": {},
   "outputs": [],
   "source": [
    "from uncertainties import ufloat\n",
    "from uncertainties.umath import *"
   ]
  },
  {
   "cell_type": "code",
   "execution_count": 56,
   "metadata": {},
   "outputs": [
    {
     "data": {
      "text/plain": [
       "SPECTROSCOPIC_FACTOR    0.149946\n",
       "dtype: float64"
      ]
     },
     "execution_count": 56,
     "metadata": {},
     "output_type": "execute_result"
    }
   ],
   "source": [
    "sO4"
   ]
  },
  {
   "cell_type": "code",
   "execution_count": 57,
   "metadata": {},
   "outputs": [],
   "source": [
    "Sn0 = ufloat(0.81, 0.01)\n",
    "Sn2 = ufloat(5.57, 0.05)\n",
    "Sn4 = ufloat(6.33, 0.05)\n",
    "Sn5 = ufloat(3.39, 0.07)\n",
    "\n",
    "Cd0 = ufloat(occ0[0], socc0)\n",
    "Cd2 = ufloat(occ2[0], socc2)\n",
    "Cd4 = ufloat(O4[0], sO4[0])\n",
    "Cd5 = ufloat(O5[0], sO5[0])"
   ]
  },
  {
   "cell_type": "code",
   "execution_count": 58,
   "metadata": {},
   "outputs": [
    {
     "data": {
      "text/plain": [
       "0.06263979638696437+/-0.01837883038092987"
      ]
     },
     "execution_count": 58,
     "metadata": {},
     "output_type": "execute_result"
    }
   ],
   "source": [
    "Sn0-Cd0"
   ]
  },
  {
   "cell_type": "code",
   "execution_count": 59,
   "metadata": {},
   "outputs": [
    {
     "data": {
      "text/plain": [
       "0.34485034049022456+/-0.05036991017695595"
      ]
     },
     "execution_count": 59,
     "metadata": {},
     "output_type": "execute_result"
    }
   ],
   "source": [
    "Sn2-Cd2"
   ]
  },
  {
   "cell_type": "code",
   "execution_count": 60,
   "metadata": {},
   "outputs": [
    {
     "data": {
      "text/plain": [
       "2.2281972069865716+/-0.15806291650883414"
      ]
     },
     "execution_count": 60,
     "metadata": {},
     "output_type": "execute_result"
    }
   ],
   "source": [
    "Sn4-Cd4"
   ]
  },
  {
   "cell_type": "code",
   "execution_count": 61,
   "metadata": {},
   "outputs": [
    {
     "data": {
      "text/plain": [
       "-4.53568734386376+/-0.2980690603280276"
      ]
     },
     "execution_count": 61,
     "metadata": {},
     "output_type": "execute_result"
    }
   ],
   "source": [
    "Sn5-Cd5"
   ]
  },
  {
   "cell_type": "code",
   "execution_count": 62,
   "metadata": {},
   "outputs": [
    {
     "data": {
      "text/plain": [
       "0.7473602036130357+/-0.015420162326350226"
      ]
     },
     "execution_count": 62,
     "metadata": {},
     "output_type": "execute_result"
    }
   ],
   "source": [
    "Cd0"
   ]
  },
  {
   "cell_type": "code",
   "execution_count": 63,
   "metadata": {},
   "outputs": [
    {
     "data": {
      "text/plain": [
       "5.225149659509776+/-0.006093262774130948"
      ]
     },
     "execution_count": 63,
     "metadata": {},
     "output_type": "execute_result"
    }
   ],
   "source": [
    "Cd2"
   ]
  },
  {
   "cell_type": "code",
   "execution_count": 64,
   "metadata": {},
   "outputs": [
    {
     "data": {
      "text/plain": [
       "4.101802793013428+/-0.14994627562990243"
      ]
     },
     "execution_count": 64,
     "metadata": {},
     "output_type": "execute_result"
    }
   ],
   "source": [
    "Cd4"
   ]
  },
  {
   "cell_type": "code",
   "execution_count": 65,
   "metadata": {},
   "outputs": [
    {
     "data": {
      "text/plain": [
       "7.9256873438637605+/-0.28973291964295905"
      ]
     },
     "execution_count": 65,
     "metadata": {},
     "output_type": "execute_result"
    }
   ],
   "source": [
    "Cd5"
   ]
  },
  {
   "cell_type": "code",
   "execution_count": null,
   "metadata": {},
   "outputs": [],
   "source": []
  }
 ],
 "metadata": {
  "kernelspec": {
   "display_name": "Python 3",
   "language": "python",
   "name": "python3"
  },
  "language_info": {
   "codemirror_mode": {
    "name": "ipython",
    "version": 3
   },
   "file_extension": ".py",
   "mimetype": "text/x-python",
   "name": "python",
   "nbconvert_exporter": "python",
   "pygments_lexer": "ipython3",
   "version": "3.6.7"
  }
 },
 "nbformat": 4,
 "nbformat_minor": 2
}
