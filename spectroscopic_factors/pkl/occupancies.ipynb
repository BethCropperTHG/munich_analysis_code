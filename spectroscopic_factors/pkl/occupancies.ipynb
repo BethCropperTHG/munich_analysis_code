{
 "cells": [
  {
   "cell_type": "code",
   "execution_count": 1,
   "metadata": {},
   "outputs": [
    {
     "name": "stdout",
     "output_type": "stream",
     "text": [
      "116Cd_d,t_115Cd_bite_1_spec_factors.pkl\r\n",
      "116Cd_p,d_115Cd_bite_1_spec_factors.pkl\r\n",
      "116Cd_p,d_115Cd_bite_2_spec_factors.pkl\r\n",
      "116Cd_p,d_115Cd_bite_3_spec_factors.pkl\r\n",
      "Untitled.ipynb\r\n"
     ]
    }
   ],
   "source": [
    "ls"
   ]
  },
  {
   "cell_type": "code",
   "execution_count": 2,
   "metadata": {},
   "outputs": [
    {
     "data": {
      "text/plain": [
       "['116Cd_p,d_115Cd_bite_1_spec_factors.pkl',\n",
       " '116Cd_p,d_115Cd_bite_2_spec_factors.pkl',\n",
       " '116Cd_p,d_115Cd_bite_3_spec_factors.pkl']"
      ]
     },
     "execution_count": 2,
     "metadata": {},
     "output_type": "execute_result"
    }
   ],
   "source": [
    "import glob\n",
    "files = glob.glob('116Cd_p,d*')\n",
    "files"
   ]
  },
  {
   "cell_type": "code",
   "execution_count": 13,
   "metadata": {},
   "outputs": [],
   "source": [
    "zero = 0\n",
    "one = 0\n",
    "two = 0\n",
    "three = 0\n",
    "four = 0\n",
    "five = 0\n",
    "six = 0\n",
    "\n",
    "import pandas as pd\n",
    "import numpy as np\n",
    "\n",
    "for file in files:\n",
    "    df = pd.read_pickle(file)\n",
    "    \n",
    "    zero += np.sum(df.loc[df['L'] == 0, ['SPECTROSCOPIC_FACTOR']])\n",
    "    two += np.sum(df.loc[df['L'] == 2, ['SPECTROSCOPIC_FACTOR']])\n",
    "    four += np.sum(df.loc[df['L'] == 4, ['SPECTROSCOPIC_FACTOR']])\n",
    "    five += np.sum(df.loc[df['L'] == 5, ['SPECTROSCOPIC_FACTOR']])"
   ]
  },
  {
   "cell_type": "code",
   "execution_count": 14,
   "metadata": {},
   "outputs": [
    {
     "data": {
      "text/plain": [
       "SPECTROSCOPIC_FACTOR    0.815592\n",
       "dtype: float64"
      ]
     },
     "execution_count": 14,
     "metadata": {},
     "output_type": "execute_result"
    }
   ],
   "source": [
    "zero"
   ]
  },
  {
   "cell_type": "code",
   "execution_count": 15,
   "metadata": {},
   "outputs": [
    {
     "data": {
      "text/plain": [
       "SPECTROSCOPIC_FACTOR    5.440855\n",
       "dtype: float64"
      ]
     },
     "execution_count": 15,
     "metadata": {},
     "output_type": "execute_result"
    }
   ],
   "source": [
    "two"
   ]
  },
  {
   "cell_type": "code",
   "execution_count": 16,
   "metadata": {},
   "outputs": [
    {
     "data": {
      "text/plain": [
       "SPECTROSCOPIC_FACTOR    2.864482\n",
       "dtype: float64"
      ]
     },
     "execution_count": 16,
     "metadata": {},
     "output_type": "execute_result"
    }
   ],
   "source": [
    "four"
   ]
  },
  {
   "cell_type": "code",
   "execution_count": 17,
   "metadata": {},
   "outputs": [
    {
     "data": {
      "text/plain": [
       "SPECTROSCOPIC_FACTOR    5.30857\n",
       "dtype: float64"
      ]
     },
     "execution_count": 17,
     "metadata": {},
     "output_type": "execute_result"
    }
   ],
   "source": [
    "five"
   ]
  },
  {
   "cell_type": "code",
   "execution_count": null,
   "metadata": {},
   "outputs": [],
   "source": []
  }
 ],
 "metadata": {
  "kernelspec": {
   "display_name": "Python 3",
   "language": "python",
   "name": "python3"
  },
  "language_info": {
   "codemirror_mode": {
    "name": "ipython",
    "version": 3
   },
   "file_extension": ".py",
   "mimetype": "text/x-python",
   "name": "python",
   "nbconvert_exporter": "python",
   "pygments_lexer": "ipython3",
   "version": "3.6.5"
  }
 },
 "nbformat": 4,
 "nbformat_minor": 2
}
